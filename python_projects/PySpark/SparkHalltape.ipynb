{
 "cells": [
  {
   "cell_type": "code",
   "execution_count": 1,
   "id": "88b692e8",
   "metadata": {},
   "outputs": [
    {
     "name": "stderr",
     "output_type": "stream",
     "text": [
      "Setting default log level to \"WARN\".\n",
      "To adjust logging level use sc.setLogLevel(newLevel). For SparkR, use setLogLevel(newLevel).\n",
      "25/05/21 14:28:15 WARN NativeCodeLoader: Unable to load native-hadoop library for your platform... using builtin-java classes where applicable\n"
     ]
    },
    {
     "name": "stdout",
     "output_type": "stream",
     "text": [
      "Активные Spark сессии: http://fedora:4040\n"
     ]
    },
    {
     "name": "stderr",
     "output_type": "stream",
     "text": [
      "25/05/21 14:28:31 WARN GarbageCollectionMetrics: To enable non-built-in garbage collector(s) List(G1 Concurrent GC), users should configure it(them) to spark.eventLog.gcMetrics.youngGenerationGarbageCollectors or spark.eventLog.gcMetrics.oldGenerationGarbageCollectors\n"
     ]
    }
   ],
   "source": [
    "from pyspark.sql import SparkSession\n",
    "from pyspark.sql import functions as F\n",
    "\n",
    "spark = (SparkSession.builder\n",
    "         .appName('halltape_pyspark_local')\n",
    "         .getOrCreate()\n",
    ")\n",
    "\n",
    "print(f'Активные Spark сессии: {spark.sparkContext.uiWebUrl}')"
   ]
  },
  {
   "cell_type": "code",
   "execution_count": 2,
   "id": "63ba8466",
   "metadata": {},
   "outputs": [],
   "source": [
    "PATH = 'data/customs_data.csv'"
   ]
  },
  {
   "cell_type": "code",
   "execution_count": 3,
   "id": "707d35ed",
   "metadata": {},
   "outputs": [
    {
     "name": "stderr",
     "output_type": "stream",
     "text": [
      "                                                                                \r"
     ]
    },
    {
     "name": "stdout",
     "output_type": "stream",
     "text": [
      "+--------------------+\n",
      "|                 _c0|\n",
      "+--------------------+\n",
      "|month;country;cod...|\n",
      "|01/2016;IT;620469...|\n",
      "|01/2016;CN;900190...|\n",
      "|01/2016;BY;841430...|\n",
      "|01/2016;US;901850...|\n",
      "|01/2016;EE;902110...|\n",
      "|01/2016;FR;381600...|\n",
      "|01/2016;MX;852351...|\n",
      "|01/2016;JP;620452...|\n",
      "|01/2016;KR;611020...|\n",
      "|01/2016;KG;852713...|\n",
      "|01/2016;ZA;842123...|\n",
      "|01/2016;CN;851810...|\n",
      "|01/2016;TR;841790...|\n",
      "|01/2016;IT;390610...|\n",
      "|01/2016;CZ;870840...|\n",
      "|01/2016;ES;640419...|\n",
      "|01/2016;IT;940490...|\n",
      "|01/2016;UA;820780...|\n",
      "|01/2016;CN;330410...|\n",
      "+--------------------+\n",
      "only showing top 20 rows\n",
      "\n"
     ]
    }
   ],
   "source": [
    "spark.read.csv(PATH).show()"
   ]
  },
  {
   "cell_type": "code",
   "execution_count": 4,
   "id": "bc2cb4e5",
   "metadata": {},
   "outputs": [
    {
     "name": "stdout",
     "output_type": "stream",
     "text": [
      "+-------+-------+----------+------+-----+--------+------+--------+-------------+-----------+--------------------+\n",
      "|  month|country|      code| value|netto|quantity|region|district|direction_eng|measure_eng|           load_date|\n",
      "+-------+-------+----------+------+-----+--------+------+--------+-------------+-----------+--------------------+\n",
      "|01/2016|     IT|6204695000|   131|    1|       7| 46000|      01|           IM|        ShT|2024-07-01T00:00:...|\n",
      "|01/2016|     CN|9001900009|112750|   18|       0| 46000|      01|           IM|          1|2024-01-01T00:00:...|\n",
      "|01/2016|     BY|8414302004|   392|   57|       8| 50000|      06|           IM|        ShT|2024-06-01T00:00:...|\n",
      "|01/2016|     US|9018509000| 54349|  179|       0| 40000|      02|           IM|          1|2024-04-01T00:00:...|\n",
      "|01/2016|     EE|9021101000| 17304|  372|       0| 46000|      01|           IM|          1|2024-02-01T00:00:...|\n",
      "+-------+-------+----------+------+-----+--------+------+--------+-------------+-----------+--------------------+\n",
      "only showing top 5 rows\n",
      "\n"
     ]
    }
   ],
   "source": [
    "spark.read.csv(PATH, sep=';', header=True).show(5)"
   ]
  },
  {
   "cell_type": "code",
   "execution_count": 7,
   "id": "caf93841",
   "metadata": {},
   "outputs": [
    {
     "name": "stderr",
     "output_type": "stream",
     "text": [
      "                                                                                \r"
     ]
    },
    {
     "name": "stdout",
     "output_type": "stream",
     "text": [
      "+-------+-------+----------+------+------+--------+------+--------+-------------+-----------+-------------------+\n",
      "|month  |country|code      |value |netto |quantity|region|district|direction_eng|measure_eng|load_date          |\n",
      "+-------+-------+----------+------+------+--------+------+--------+-------------+-----------+-------------------+\n",
      "|01/2016|IT     |6204695000|131   |1     |7       |46000 |1       |IM           |ShT        |2024-07-01 00:00:00|\n",
      "|01/2016|CN     |9001900009|112750|18    |0       |46000 |1       |IM           |1          |2024-01-01 00:00:00|\n",
      "|01/2016|BY     |8414302004|392   |57    |8       |50000 |6       |IM           |ShT        |2024-06-01 00:00:00|\n",
      "|01/2016|US     |9018509000|54349 |179   |0       |40000 |2       |IM           |1          |2024-04-01 00:00:00|\n",
      "|01/2016|EE     |9021101000|17304 |372   |0       |46000 |1       |IM           |1          |2024-02-01 00:00:00|\n",
      "|01/2016|FR     |3816000000|323488|253600|0       |40000 |2       |IM           |1          |2024-02-01 00:00:00|\n",
      "|01/2016|MX     |8523519300|1611  |0     |4       |40000 |2       |IM           |ShT        |2024-04-01 00:00:00|\n",
      "|01/2016|JP     |6204520000|29    |1     |2       |46000 |1       |IM           |ShT        |2024-02-01 00:00:00|\n",
      "|01/2016|KR     |6110209100|815   |2     |5       |46000 |1       |IM           |ShT        |2024-01-01 00:00:00|\n",
      "|01/2016|KG     |8527139900|11868 |2127  |2630    |46000 |1       |IM           |ShT        |2024-06-01 00:00:00|\n",
      "|01/2016|ZA     |8421230000|12686 |1785  |3451    |45000 |1       |IM           |ShT        |2024-03-01 00:00:00|\n",
      "|01/2016|CN     |8518109500|12    |0     |10      |65000 |5       |IM           |ShT        |2024-03-01 00:00:00|\n",
      "|01/2016|TR     |8417900000|206453|17297 |1       |92000 |4       |IM           |ShT        |2024-06-01 00:00:00|\n",
      "|01/2016|IT     |3906100000|4492  |1075  |0       |45000 |1       |IM           |1          |2024-02-01 00:00:00|\n",
      "|01/2016|CZ     |8708409909|41    |2     |0       |46000 |1       |IM           |1          |2024-01-01 00:00:00|\n",
      "|01/2016|ES     |6404191000|11822 |346   |760     |45000 |1       |IM           |PAR        |2024-01-01 00:00:00|\n",
      "|01/2016|IT     |9404909000|6801  |485   |0       |46000 |1       |IM           |1          |2024-03-01 00:00:00|\n",
      "|01/2016|UA     |8207801900|35793 |1020  |0       |14000 |1       |IM           |1          |2024-02-01 00:00:00|\n",
      "|01/2016|CN     |3304100000|59678 |10829 |0       |46000 |1       |IM           |1          |2024-06-01 00:00:00|\n",
      "|01/2016|SI     |6104440000|1470  |13    |15      |45000 |1       |IM           |ShT        |2024-05-01 00:00:00|\n",
      "+-------+-------+----------+------+------+--------+------+--------+-------------+-----------+-------------------+\n",
      "only showing top 20 rows\n",
      "\n"
     ]
    }
   ],
   "source": [
    "df = spark.read.csv(PATH, sep=';', header=True, inferSchema=True)\n",
    "\n",
    "df.show(truncate=False)"
   ]
  },
  {
   "cell_type": "code",
   "execution_count": 8,
   "id": "9f6622a8",
   "metadata": {},
   "outputs": [
    {
     "name": "stdout",
     "output_type": "stream",
     "text": [
      "root\n",
      " |-- month: string (nullable = true)\n",
      " |-- country: string (nullable = true)\n",
      " |-- code: string (nullable = true)\n",
      " |-- value: string (nullable = true)\n",
      " |-- netto: long (nullable = true)\n",
      " |-- quantity: long (nullable = true)\n",
      " |-- region: integer (nullable = true)\n",
      " |-- district: integer (nullable = true)\n",
      " |-- direction_eng: string (nullable = true)\n",
      " |-- measure_eng: string (nullable = true)\n",
      " |-- load_date: timestamp (nullable = true)\n",
      "\n"
     ]
    }
   ],
   "source": [
    "df.printSchema()"
   ]
  },
  {
   "cell_type": "code",
   "execution_count": 9,
   "id": "b1301082",
   "metadata": {},
   "outputs": [
    {
     "name": "stdout",
     "output_type": "stream",
     "text": [
      "root\n",
      " |-- month: string (nullable = true)\n",
      " |-- country: string (nullable = true)\n",
      " |-- code: string (nullable = true)\n",
      " |-- value: string (nullable = true)\n",
      " |-- netto: long (nullable = true)\n",
      " |-- quantity: long (nullable = true)\n",
      " |-- region: integer (nullable = true)\n",
      " |-- district: integer (nullable = true)\n",
      " |-- direction: string (nullable = true)\n",
      " |-- measure: string (nullable = true)\n",
      " |-- load_date: timestamp (nullable = true)\n",
      "\n"
     ]
    }
   ],
   "source": [
    "result = (df.withColumnRenamed(\"direction_eng\", \"direction\")\n",
    "            .withColumnRenamed(\"measure_eng\", \"measure\")\n",
    "         )\n",
    "\n",
    "result.printSchema()"
   ]
  },
  {
   "cell_type": "code",
   "execution_count": 10,
   "id": "496d476d",
   "metadata": {},
   "outputs": [
    {
     "data": {
      "text/plain": [
       "['month',\n",
       " 'country',\n",
       " 'code',\n",
       " 'value',\n",
       " 'netto',\n",
       " 'quantity',\n",
       " 'region',\n",
       " 'district',\n",
       " 'direction',\n",
       " 'measure',\n",
       " 'load_date']"
      ]
     },
     "execution_count": 10,
     "metadata": {},
     "output_type": "execute_result"
    }
   ],
   "source": [
    "result.columns"
   ]
  },
  {
   "cell_type": "code",
   "execution_count": 11,
   "id": "28776543",
   "metadata": {},
   "outputs": [
    {
     "name": "stderr",
     "output_type": "stream",
     "text": [
      "[Stage 9:=====================================================>   (15 + 1) / 16]\r"
     ]
    },
    {
     "name": "stdout",
     "output_type": "stream",
     "text": [
      "+-------+\n",
      "|country|\n",
      "+-------+\n",
      "|LT     |\n",
      "|MM     |\n",
      "|DZ     |\n",
      "|CI     |\n",
      "|TC     |\n",
      "|FI     |\n",
      "|SC     |\n",
      "|AZ     |\n",
      "|UA     |\n",
      "|RO     |\n",
      "+-------+\n",
      "only showing top 10 rows\n",
      "\n"
     ]
    },
    {
     "name": "stderr",
     "output_type": "stream",
     "text": [
      "                                                                                \r"
     ]
    }
   ],
   "source": [
    "result.select('country').distinct().show(10, truncate=False)"
   ]
  },
  {
   "cell_type": "code",
   "execution_count": 17,
   "id": "b0b0c50c",
   "metadata": {},
   "outputs": [
    {
     "name": "stderr",
     "output_type": "stream",
     "text": [
      "                                                                                \r"
     ]
    },
    {
     "name": "stdout",
     "output_type": "stream",
     "text": [
      "+-------+----------+\n",
      "|country|total_rows|\n",
      "+-------+----------+\n",
      "|     BY|   3509568|\n",
      "|     KZ|   2519896|\n",
      "|     CN|   2454792|\n",
      "|     DE|   1542311|\n",
      "|     UA|   1158498|\n",
      "|     IT|   1102837|\n",
      "|     US|    835936|\n",
      "|     PL|    666690|\n",
      "|     FR|    593040|\n",
      "|     JP|    571756|\n",
      "|     TR|    463432|\n",
      "|     KR|    446907|\n",
      "|     GB|    443091|\n",
      "|     AM|    438705|\n",
      "|     CZ|    407360|\n",
      "|     KG|    403565|\n",
      "|     ES|    401644|\n",
      "|     IN|    374151|\n",
      "|     NL|    365193|\n",
      "|     UZ|    329707|\n",
      "+-------+----------+\n",
      "only showing top 20 rows\n",
      "\n"
     ]
    }
   ],
   "source": [
    "(result.groupBy('country').agg(F.count('*')\n",
    "       .alias('total_rows')).orderBy(F.col('total_rows').desc()).show()\n",
    ")"
   ]
  },
  {
   "cell_type": "code",
   "execution_count": 19,
   "id": "0c614708",
   "metadata": {},
   "outputs": [],
   "source": [
    "df_de = (result.where(F.col('country') == 'DE')\n",
    "               .where(F.col('value').isNotNull())\n",
    ")"
   ]
  },
  {
   "cell_type": "code",
   "execution_count": 20,
   "id": "d7205248",
   "metadata": {},
   "outputs": [
    {
     "name": "stdout",
     "output_type": "stream",
     "text": [
      "+-------+-------+----------+------+-----+--------+------+--------+---------+-------+-------------------+\n",
      "|  month|country|      code| value|netto|quantity|region|district|direction|measure|          load_date|\n",
      "+-------+-------+----------+------+-----+--------+------+--------+---------+-------+-------------------+\n",
      "|01/2016|     DE|4016995709|  5901|  172|       0| 46000|       1|       IM|      1|2024-01-01 00:00:00|\n",
      "|01/2016|     DE|8708809109|  1213|   94|       0| 45000|       1|       IM|      1|2024-01-01 00:00:00|\n",
      "|01/2016|     DE|7013419000|  7020| 1611|     492| 45000|       1|       IM|    ShT|2024-02-01 00:00:00|\n",
      "|01/2016|     DE|3923309090| 46294| 8048|       0| 45000|       1|       IM|      1|2024-04-01 00:00:00|\n",
      "|01/2016|     DE|4015190000|440008|73357| 6463937| 45000|       1|       IM|    PAR|2024-03-01 00:00:00|\n",
      "|01/2016|     DE|2918140000|   265|   15|       0| 45000|       1|       IM|      1|2024-03-01 00:00:00|\n",
      "|01/2016|     DE|3208101000| 10075|  680|       0| 78000|       1|       IM|      1|2024-06-01 00:00:00|\n",
      "|01/2016|     DE|7608100009|  5515|   12|       0| 92000|       4|       IM|      1|2024-03-01 00:00:00|\n",
      "|01/2016|     DE|8505909000|  1141|   11|       0| 46000|       1|       IM|      1|2024-02-01 00:00:00|\n",
      "|01/2016|     DE|5602101900| 18483| 3520|       0| 42000|       1|       IM|      1|2024-02-01 00:00:00|\n",
      "|01/2016|     DE|3405909000| 48947|19440|       0|  7000|       8|       IM|      1|2024-02-01 00:00:00|\n",
      "|01/2016|     DE|7306408008|   403|   16|       0| 70000|       1|       IM|      1|2024-01-01 00:00:00|\n",
      "|01/2016|     DE|2106909803|   497|   66|       0| 40000|       2|       IM|      1|2024-04-01 00:00:00|\n",
      "|01/2016|     DE|2918199800| 14231| 2000|       0| 40000|       2|       IM|      1|2024-02-01 00:00:00|\n",
      "|01/2016|     DE|8536508000|  7920|   62|       0| 65000|       5|       IM|      1|2024-03-01 00:00:00|\n",
      "|01/2016|     DE|8481309909|  5652|   58|       0| 46000|       1|       IM|      1|2024-04-01 00:00:00|\n",
      "|01/2016|     DE|3506910000| 10466| 1800|       0| 60000|       3|       IM|      1|2024-01-01 00:00:00|\n",
      "|01/2016|     DE|5906999000|   846|   60|       0| 45000|       1|       IM|      1|2024-01-01 00:00:00|\n",
      "|01/2016|     DE|8207709000| 16308|  148|       0| 27000|       2|       IM|      1|2024-01-01 00:00:00|\n",
      "|01/2016|     DE|3824400000| 41312| 4670|       0| 46000|       1|       IM|      1|2024-03-01 00:00:00|\n",
      "+-------+-------+----------+------+-----+--------+------+--------+---------+-------+-------------------+\n",
      "only showing top 20 rows\n",
      "\n"
     ]
    }
   ],
   "source": [
    "df_de.show()"
   ]
  },
  {
   "cell_type": "code",
   "execution_count": 24,
   "id": "b101ee20",
   "metadata": {},
   "outputs": [
    {
     "name": "stdout",
     "output_type": "stream",
     "text": [
      "root\n",
      " |-- month: string (nullable = true)\n",
      " |-- country: string (nullable = true)\n",
      " |-- code: string (nullable = true)\n",
      " |-- value: string (nullable = true)\n",
      " |-- netto: long (nullable = true)\n",
      " |-- quantity: long (nullable = true)\n",
      " |-- region: integer (nullable = true)\n",
      " |-- district: integer (nullable = true)\n",
      " |-- direction: string (nullable = true)\n",
      " |-- measure: string (nullable = true)\n",
      " |-- load_date: date (nullable = true)\n",
      "\n"
     ]
    }
   ],
   "source": [
    "final = df_de.select('month',\n",
    "                    'country',\n",
    "                    'code',\n",
    "                    'value',\n",
    "                    'netto',\n",
    "                    'quantity',\n",
    "                    'region',\n",
    "                    'district',\n",
    "                    'direction',\n",
    "                    'measure',\n",
    "                    F.col('load_date').cast('date')\n",
    "                    )\n",
    "final.printSchema()"
   ]
  },
  {
   "cell_type": "code",
   "execution_count": 25,
   "id": "b4203b30",
   "metadata": {},
   "outputs": [
    {
     "name": "stderr",
     "output_type": "stream",
     "text": [
      "                                                                                \r"
     ]
    },
    {
     "name": "stdout",
     "output_type": "stream",
     "text": [
      "Кол-во партиций 16\n"
     ]
    }
   ],
   "source": [
    "# Сохранение неконтроллируемое по кол-ву файлов\n",
    "final\\\n",
    "    .write\\\n",
    "    .format('csv')\\\n",
    "    .options(header='True', sep=';')\\\n",
    "    .csv('data/final_no_control')\n",
    "\n",
    "partition_num = final.rdd.getNumPartitions()\n",
    "print(f'Кол-во партиций {partition_num}')"
   ]
  },
  {
   "cell_type": "code",
   "execution_count": 26,
   "id": "95b002ae",
   "metadata": {},
   "outputs": [
    {
     "name": "stderr",
     "output_type": "stream",
     "text": [
      "                                                                                \r"
     ]
    },
    {
     "name": "stdout",
     "output_type": "stream",
     "text": [
      "Кол-во партиций 1\n"
     ]
    }
   ],
   "source": [
    "# Сохранение контроллируемое по кол-ву файлов - ОДИН ФАЙЛ\n",
    "final\\\n",
    "    .coalesce(1)\\\n",
    "    .write\\\n",
    "    .format('csv')\\\n",
    "    .options(header='True', sep=';')\\\n",
    "    .csv('data/final_one_file') \n",
    "\n",
    "partition_num = final.coalesce(1).rdd.getNumPartitions()\n",
    "print(f'Кол-во партиций {partition_num}')"
   ]
  },
  {
   "cell_type": "code",
   "execution_count": 27,
   "id": "d2fb5a75",
   "metadata": {},
   "outputs": [
    {
     "name": "stderr",
     "output_type": "stream",
     "text": [
      "[Stage 20:====================================================>   (15 + 1) / 16]\r"
     ]
    },
    {
     "name": "stdout",
     "output_type": "stream",
     "text": [
      "Load_date distinct: 10\n"
     ]
    },
    {
     "name": "stderr",
     "output_type": "stream",
     "text": [
      "                                                                                \r"
     ]
    }
   ],
   "source": [
    "\n",
    "# Сохранения с партицированием\n",
    "final\\\n",
    "    .write\\\n",
    "    .partitionBy('load_date')\\\n",
    "    .format('csv')\\\n",
    "    .options(header='True', sep=';')\\\n",
    "    .csv('data/final_partitioned')\n",
    "\n",
    "print_df = final.select('load_date').distinct()\n",
    "print(f'Load_date distinct: {print_df.count()}')"
   ]
  },
  {
   "cell_type": "code",
   "execution_count": 28,
   "id": "faaeb03f",
   "metadata": {},
   "outputs": [
    {
     "name": "stderr",
     "output_type": "stream",
     "text": [
      "[Stage 29:====================================================>   (15 + 1) / 16]\r"
     ]
    },
    {
     "name": "stdout",
     "output_type": "stream",
     "text": [
      "Кол-во партиций 1\n"
     ]
    }
   ],
   "source": [
    "# Сохранения с партицированием и repartition внутри самой партиции\n",
    "final\\\n",
    "    .repartition(1, 'load_date')\\\n",
    "    .write\\\n",
    "    .partitionBy('load_date')\\\n",
    "    .format('csv')\\\n",
    "    .options(header='True', sep=';')\\\n",
    "    .csv('data/final_partitioned_repart')\n",
    "\n",
    "partition_num = final.repartition(1, 'load_date').rdd.getNumPartitions()\n",
    "print(f'Кол-во партиций {partition_num}')"
   ]
  },
  {
   "cell_type": "markdown",
   "id": "95aefcf4",
   "metadata": {},
   "source": [
    "## Read Transformed"
   ]
  },
  {
   "cell_type": "code",
   "execution_count": 29,
   "id": "dbdbe77e",
   "metadata": {},
   "outputs": [
    {
     "name": "stderr",
     "output_type": "stream",
     "text": [
      "                                                                                \r"
     ]
    }
   ],
   "source": [
    "read_no_control = (spark.read.csv('data/final_no_control/',\n",
    "                                  header=True,\n",
    "                                  sep=';').where(F.col('load_date') == '2024-01-01'))"
   ]
  },
  {
   "cell_type": "code",
   "execution_count": 30,
   "id": "c2178932",
   "metadata": {},
   "outputs": [
    {
     "name": "stderr",
     "output_type": "stream",
     "text": [
      "                                                                                \r"
     ]
    },
    {
     "data": {
      "text/plain": [
       "350998"
      ]
     },
     "execution_count": 30,
     "metadata": {},
     "output_type": "execute_result"
    }
   ],
   "source": [
    "read_no_control.count()"
   ]
  },
  {
   "cell_type": "code",
   "execution_count": 31,
   "id": "c02426fa",
   "metadata": {},
   "outputs": [
    {
     "name": "stderr",
     "output_type": "stream",
     "text": [
      "                                                                                \r"
     ]
    },
    {
     "data": {
      "text/plain": [
       "350998"
      ]
     },
     "execution_count": 31,
     "metadata": {},
     "output_type": "execute_result"
    }
   ],
   "source": [
    "read_final_one_file = (spark.read.csv('data/final_one_file/',\n",
    "                                  header=True,\n",
    "                                  sep=';').where(F.col('load_date') == '2024-01-01'))\n",
    "\n",
    "read_final_one_file.count()\n"
   ]
  },
  {
   "cell_type": "code",
   "execution_count": 32,
   "id": "54adab99",
   "metadata": {},
   "outputs": [
    {
     "name": "stderr",
     "output_type": "stream",
     "text": [
      "                                                                                \r"
     ]
    },
    {
     "data": {
      "text/plain": [
       "350998"
      ]
     },
     "execution_count": 32,
     "metadata": {},
     "output_type": "execute_result"
    }
   ],
   "source": [
    "read_partitioned = (spark.read.csv('data/final_partitioned',\n",
    "                                  header=True,\n",
    "                                  sep=';').where(F.col('load_date') == '2024-01-01'))\n",
    "\n",
    "read_partitioned.count()\n"
   ]
  },
  {
   "cell_type": "code",
   "execution_count": 33,
   "id": "29cf1abe",
   "metadata": {},
   "outputs": [
    {
     "data": {
      "text/plain": [
       "350998"
      ]
     },
     "execution_count": 33,
     "metadata": {},
     "output_type": "execute_result"
    }
   ],
   "source": [
    "read_partitioned_repart = (spark.read.csv('data/final_partitioned_repart',\n",
    "                                  header=True,\n",
    "                                  sep=';').where(F.col('load_date') == '2024-01-01'))\n",
    "\n",
    "read_partitioned_repart.count()\n"
   ]
  },
  {
   "cell_type": "markdown",
   "id": "645f55ec",
   "metadata": {},
   "source": [
    "## JOIN"
   ]
  },
  {
   "cell_type": "code",
   "execution_count": 34,
   "id": "961a97a5",
   "metadata": {},
   "outputs": [
    {
     "name": "stderr",
     "output_type": "stream",
     "text": [
      "                                                                                \r"
     ]
    },
    {
     "name": "stdout",
     "output_type": "stream",
     "text": [
      "+---------+-----------+\n",
      "|region_id|       name|\n",
      "+---------+-----------+\n",
      "|    14000|   Северный|\n",
      "|    11000|      Южный|\n",
      "|    10000|  Восточный|\n",
      "|    26000|   Западный|\n",
      "|    56000|Центральный|\n",
      "+---------+-----------+\n",
      "\n",
      "+-------+-------+----------+------+------+--------+------+--------+-------------+-----------+--------------------+\n",
      "|  month|country|      code| value| netto|quantity|region|district|direction_eng|measure_eng|           load_date|\n",
      "+-------+-------+----------+------+------+--------+------+--------+-------------+-----------+--------------------+\n",
      "|01/2016|     IT|6204695000|   131|     1|       7| 46000|      01|           IM|        ShT|2024-07-01T00:00:...|\n",
      "|01/2016|     CN|9001900009|112750|    18|       0| 46000|      01|           IM|          1|2024-01-01T00:00:...|\n",
      "|01/2016|     BY|8414302004|   392|    57|       8| 50000|      06|           IM|        ShT|2024-06-01T00:00:...|\n",
      "|01/2016|     US|9018509000| 54349|   179|       0| 40000|      02|           IM|          1|2024-04-01T00:00:...|\n",
      "|01/2016|     EE|9021101000| 17304|   372|       0| 46000|      01|           IM|          1|2024-02-01T00:00:...|\n",
      "|01/2016|     FR|3816000000|323488|253600|       0| 40000|      02|           IM|          1|2024-02-01T00:00:...|\n",
      "|01/2016|     MX|8523519300|  1611|     0|       4| 40000|      02|           IM|        ShT|2024-04-01T00:00:...|\n",
      "|01/2016|     JP|6204520000|    29|     1|       2| 46000|      01|           IM|        ShT|2024-02-01T00:00:...|\n",
      "|01/2016|     KR|6110209100|   815|     2|       5| 46000|      01|           IM|        ShT|2024-01-01T00:00:...|\n",
      "|01/2016|     KG|8527139900| 11868|  2127|    2630| 46000|      01|           IM|        ShT|2024-06-01T00:00:...|\n",
      "+-------+-------+----------+------+------+--------+------+--------+-------------+-----------+--------------------+\n",
      "only showing top 10 rows\n",
      "\n"
     ]
    }
   ],
   "source": [
    "data = [\n",
    "    (14000, \"Северный\"),\n",
    "    (11000, \"Южный\"),\n",
    "    (10000, \"Восточный\"),\n",
    "    (26000, \"Западный\"),\n",
    "    (56000, \"Центральный\")\n",
    "]\n",
    "\n",
    "region_df = spark.createDataFrame(data, schema='region_id long, name string')\n",
    "\n",
    "region_df.show()\n",
    "\n",
    "customs_data = spark.read.csv('data/customs_data.csv', header=True, sep=';')\n",
    "\n",
    "customs_data.show(10)"
   ]
  },
  {
   "cell_type": "code",
   "execution_count": 35,
   "id": "b8c0892a",
   "metadata": {},
   "outputs": [],
   "source": [
    "import time\n",
    "spark.conf.set(\"spark.sql.autoBroadcastJoinThreshold\", -1)"
   ]
  },
  {
   "cell_type": "code",
   "execution_count": 37,
   "id": "19646120",
   "metadata": {},
   "outputs": [
    {
     "name": "stderr",
     "output_type": "stream",
     "text": [
      "[Stage 55:=============================>                            (1 + 1) / 2]\r"
     ]
    },
    {
     "name": "stdout",
     "output_type": "stream",
     "text": [
      "Elapsed time for join operation: 116.59 seconds\n"
     ]
    },
    {
     "name": "stderr",
     "output_type": "stream",
     "text": [
      "                                                                                \r"
     ]
    }
   ],
   "source": [
    "start_time = time.time()\n",
    "\n",
    "customs_data.join(region_df, customs_data.region == region_df.region_id, \"left\").count()\n",
    "\n",
    "end_time = time.time()\n",
    "\n",
    "print(f'Elapsed time for join operation: {end_time - start_time:.2F} seconds')"
   ]
  },
  {
   "cell_type": "code",
   "execution_count": 38,
   "id": "818309df",
   "metadata": {},
   "outputs": [
    {
     "name": "stderr",
     "output_type": "stream",
     "text": [
      "[Stage 61:====================================================>   (15 + 1) / 16]\r"
     ]
    },
    {
     "name": "stdout",
     "output_type": "stream",
     "text": [
      "Elapsed time for broadcast join operation: 60.71 seconds\n"
     ]
    },
    {
     "name": "stderr",
     "output_type": "stream",
     "text": [
      "                                                                                \r"
     ]
    }
   ],
   "source": [
    "start_time = time.time()\n",
    "\n",
    "customs_data.join(F.broadcast(region_df), customs_data.region == region_df.region_id, \"left\").count()\n",
    "\n",
    "end_time = time.time()\n",
    "\n",
    "print(f\"Elapsed time for broadcast join operation: {end_time - start_time:.2f} seconds\")"
   ]
  },
  {
   "cell_type": "markdown",
   "id": "6350c7be",
   "metadata": {},
   "source": [
    "## Cache | Persist"
   ]
  },
  {
   "cell_type": "code",
   "execution_count": 39,
   "id": "31daff53",
   "metadata": {},
   "outputs": [
    {
     "name": "stderr",
     "output_type": "stream",
     "text": [
      "25/05/21 16:46:06 WARN MemoryStore: Not enough space to cache rdd_248_7 in memory! (computed 48.6 MiB so far)\n",
      "25/05/21 16:46:07 WARN BlockManager: Persisting block rdd_248_7 to disk instead.\n",
      "25/05/21 16:46:09 WARN MemoryStore: Not enough space to cache rdd_248_7 in memory! (computed 48.6 MiB so far)\n",
      "25/05/21 16:46:25 WARN MemoryStore: Not enough space to cache rdd_248_9 in memory! (computed 19.7 MiB so far)\n",
      "25/05/21 16:46:25 WARN BlockManager: Persisting block rdd_248_9 to disk instead.\n",
      "25/05/21 16:46:39 WARN MemoryStore: Not enough space to cache rdd_248_10 in memory! (computed 9.9 MiB so far)\n",
      "25/05/21 16:46:39 WARN BlockManager: Persisting block rdd_248_10 to disk instead.\n",
      "25/05/21 16:46:42 WARN MemoryStore: Not enough space to cache rdd_248_9 in memory! (computed 10.2 MiB so far)\n",
      "25/05/21 16:46:46 WARN MemoryStore: Not enough space to cache rdd_248_11 in memory! (computed 9.8 MiB so far)\n",
      "25/05/21 16:46:46 WARN BlockManager: Persisting block rdd_248_11 to disk instead.\n",
      "25/05/21 16:46:58 WARN MemoryStore: Not enough space to cache rdd_248_10 in memory! (computed 9.9 MiB so far)\n",
      "25/05/21 16:47:03 WARN MemoryStore: Not enough space to cache rdd_248_12 in memory! (computed 9.9 MiB so far)\n",
      "25/05/21 16:47:03 WARN BlockManager: Persisting block rdd_248_12 to disk instead.\n",
      "25/05/21 16:47:05 WARN MemoryStore: Not enough space to cache rdd_248_11 in memory! (computed 9.8 MiB so far)\n",
      "25/05/21 16:47:09 WARN MemoryStore: Not enough space to cache rdd_248_13 in memory! (computed 9.5 MiB so far)\n",
      "25/05/21 16:47:09 WARN BlockManager: Persisting block rdd_248_13 to disk instead.\n",
      "25/05/21 16:47:21 WARN MemoryStore: Not enough space to cache rdd_248_12 in memory! (computed 9.9 MiB so far)\n",
      "25/05/21 16:47:26 WARN MemoryStore: Not enough space to cache rdd_248_14 in memory! (computed 10.2 MiB so far)\n",
      "25/05/21 16:47:26 WARN BlockManager: Persisting block rdd_248_14 to disk instead.\n",
      "25/05/21 16:47:27 WARN MemoryStore: Not enough space to cache rdd_248_13 in memory! (computed 9.5 MiB so far)\n",
      "25/05/21 16:47:32 WARN MemoryStore: Not enough space to cache rdd_248_15 in memory! (computed 10.1 MiB so far)\n",
      "25/05/21 16:47:32 WARN BlockManager: Persisting block rdd_248_15 to disk instead.\n",
      "25/05/21 16:47:41 WARN MemoryStore: Not enough space to cache rdd_248_15 in memory! (computed 10.1 MiB so far)\n",
      "25/05/21 16:47:47 WARN MemoryStore: Not enough space to cache rdd_248_14 in memory! (computed 10.2 MiB so far)\n",
      "25/05/21 16:47:48 WARN MemoryStore: Not enough space to cache rdd_248_7 in memory! (computed 10.1 MiB so far)\n",
      "25/05/21 16:47:49 WARN MemoryStore: Not enough space to cache rdd_248_10 in memory! (computed 9.9 MiB so far)\n",
      "25/05/21 16:47:49 WARN MemoryStore: Not enough space to cache rdd_248_9 in memory! (computed 10.2 MiB so far)\n",
      "25/05/21 16:47:49 WARN MemoryStore: Not enough space to cache rdd_248_11 in memory! (computed 9.8 MiB so far)\n",
      "25/05/21 16:47:49 WARN MemoryStore: Not enough space to cache rdd_248_13 in memory! (computed 4.8 MiB so far)\n",
      "25/05/21 16:47:49 WARN MemoryStore: Not enough space to cache rdd_248_12 in memory! (computed 9.9 MiB so far)\n",
      "25/05/21 16:47:50 WARN MemoryStore: Not enough space to cache rdd_248_14 in memory! (computed 10.2 MiB so far)\n",
      "25/05/21 16:47:50 WARN MemoryStore: Not enough space to cache rdd_248_15 in memory! (computed 10.1 MiB so far)\n",
      "                                                                                \r"
     ]
    },
    {
     "data": {
      "text/plain": [
       "26392290"
      ]
     },
     "execution_count": 39,
     "metadata": {},
     "output_type": "execute_result"
    }
   ],
   "source": [
    "customs_data.cache().count()\n"
   ]
  },
  {
   "cell_type": "code",
   "execution_count": 40,
   "id": "ee9c6a06",
   "metadata": {},
   "outputs": [
    {
     "data": {
      "text/plain": [
       "DataFrame[month: string, country: string, code: string, value: string, netto: string, quantity: string, region: string, district: string, direction_eng: string, measure_eng: string, load_date: string]"
      ]
     },
     "execution_count": 40,
     "metadata": {},
     "output_type": "execute_result"
    }
   ],
   "source": [
    "customs_data.unpersist()"
   ]
  },
  {
   "cell_type": "markdown",
   "id": "6a34cf6e",
   "metadata": {},
   "source": [
    "## Repartition & Coalesce"
   ]
  },
  {
   "cell_type": "code",
   "execution_count": 41,
   "id": "3add0585",
   "metadata": {},
   "outputs": [
    {
     "name": "stdout",
     "output_type": "stream",
     "text": [
      "+---+------+\n",
      "| id|number|\n",
      "+---+------+\n",
      "|  1|   one|\n",
      "|  2|   two|\n",
      "|  3| three|\n",
      "|  4|  four|\n",
      "|  5|  five|\n",
      "|  6|   six|\n",
      "|  7| seven|\n",
      "|  8| eight|\n",
      "|  9|  nine|\n",
      "+---+------+\n",
      "\n"
     ]
    }
   ],
   "source": [
    "data = [(1,'one'), (2,'two'), (3,'three'), (4,'four'),\n",
    "        (5,'five'), (6,'six'), (7, 'seven'), (8, 'eight'),\n",
    "        (9, 'nine')]\n",
    "\n",
    "df = spark.createDataFrame(data, ['id', 'number'])\n",
    "\n",
    "df.show()"
   ]
  },
  {
   "cell_type": "code",
   "execution_count": 44,
   "id": "32d35617",
   "metadata": {},
   "outputs": [
    {
     "data": {
      "text/plain": [
       "[[Row(id=2, number='two'), Row(id=7, number='seven')],\n",
       " [Row(id=6, number='six')],\n",
       " [Row(id=5, number='five')],\n",
       " [Row(id=1, number='one')],\n",
       " [Row(id=4, number='four'), Row(id=8, number='eight')],\n",
       " [Row(id=3, number='three'), Row(id=9, number='nine')]]"
      ]
     },
     "execution_count": 44,
     "metadata": {},
     "output_type": "execute_result"
    }
   ],
   "source": [
    "mix = df.repartition(6)\n",
    "mix.rdd.glom().collect()"
   ]
  },
  {
   "cell_type": "code",
   "execution_count": 45,
   "id": "08800c11",
   "metadata": {},
   "outputs": [
    {
     "data": {
      "text/plain": [
       "[[Row(id=2, number='two'), Row(id=7, number='seven'), Row(id=6, number='six')],\n",
       " [Row(id=3, number='three'),\n",
       "  Row(id=9, number='nine'),\n",
       "  Row(id=1, number='one')],\n",
       " [Row(id=5, number='five'),\n",
       "  Row(id=4, number='four'),\n",
       "  Row(id=8, number='eight')]]"
      ]
     },
     "execution_count": 45,
     "metadata": {},
     "output_type": "execute_result"
    }
   ],
   "source": [
    "mix.coalesce(3).rdd.glom().collect()"
   ]
  },
  {
   "cell_type": "code",
   "execution_count": 47,
   "id": "a2fbd79a",
   "metadata": {},
   "outputs": [
    {
     "ename": "ModuleNotFoundError",
     "evalue": "No module named 'distutils'",
     "output_type": "error",
     "traceback": [
      "\u001b[31m---------------------------------------------------------------------------\u001b[39m",
      "\u001b[31mModuleNotFoundError\u001b[39m                       Traceback (most recent call last)",
      "\u001b[36mCell\u001b[39m\u001b[36m \u001b[39m\u001b[32mIn[47]\u001b[39m\u001b[32m, line 1\u001b[39m\n\u001b[32m----> \u001b[39m\u001b[32m1\u001b[39m \u001b[43mmix\u001b[49m\u001b[43m.\u001b[49m\u001b[43mtoPandas\u001b[49m\u001b[43m(\u001b[49m\u001b[43m)\u001b[49m.head()\n",
      "\u001b[36mFile \u001b[39m\u001b[32m~/github/DE_course_repo/python_projects/py_venv/lib64/python3.13/site-packages/pyspark/sql/pandas/conversion.py:86\u001b[39m, in \u001b[36mPandasConversionMixin.toPandas\u001b[39m\u001b[34m(self)\u001b[39m\n\u001b[32m     83\u001b[39m \u001b[38;5;28;01mfrom\u001b[39;00m\u001b[38;5;250m \u001b[39m\u001b[34;01mpyspark\u001b[39;00m\u001b[34;01m.\u001b[39;00m\u001b[34;01msql\u001b[39;00m\u001b[34;01m.\u001b[39;00m\u001b[34;01mpandas\u001b[39;00m\u001b[34;01m.\u001b[39;00m\u001b[34;01mtypes\u001b[39;00m\u001b[38;5;250m \u001b[39m\u001b[38;5;28;01mimport\u001b[39;00m _create_converter_to_pandas\n\u001b[32m     84\u001b[39m \u001b[38;5;28;01mfrom\u001b[39;00m\u001b[38;5;250m \u001b[39m\u001b[34;01mpyspark\u001b[39;00m\u001b[34;01m.\u001b[39;00m\u001b[34;01msql\u001b[39;00m\u001b[34;01m.\u001b[39;00m\u001b[34;01mpandas\u001b[39;00m\u001b[34;01m.\u001b[39;00m\u001b[34;01mutils\u001b[39;00m\u001b[38;5;250m \u001b[39m\u001b[38;5;28;01mimport\u001b[39;00m require_minimum_pandas_version\n\u001b[32m---> \u001b[39m\u001b[32m86\u001b[39m \u001b[43mrequire_minimum_pandas_version\u001b[49m\u001b[43m(\u001b[49m\u001b[43m)\u001b[49m\n\u001b[32m     88\u001b[39m \u001b[38;5;28;01mimport\u001b[39;00m\u001b[38;5;250m \u001b[39m\u001b[34;01mpandas\u001b[39;00m\u001b[38;5;250m \u001b[39m\u001b[38;5;28;01mas\u001b[39;00m\u001b[38;5;250m \u001b[39m\u001b[34;01mpd\u001b[39;00m\n\u001b[32m     90\u001b[39m jconf = \u001b[38;5;28mself\u001b[39m.sparkSession._jconf\n",
      "\u001b[36mFile \u001b[39m\u001b[32m~/github/DE_course_repo/python_projects/py_venv/lib64/python3.13/site-packages/pyspark/sql/pandas/utils.py:24\u001b[39m, in \u001b[36mrequire_minimum_pandas_version\u001b[39m\u001b[34m()\u001b[39m\n\u001b[32m     21\u001b[39m \u001b[38;5;66;03m# TODO(HyukjinKwon): Relocate and deduplicate the version specification.\u001b[39;00m\n\u001b[32m     22\u001b[39m minimum_pandas_version = \u001b[33m\"\u001b[39m\u001b[33m1.0.5\u001b[39m\u001b[33m\"\u001b[39m\n\u001b[32m---> \u001b[39m\u001b[32m24\u001b[39m \u001b[38;5;28;01mfrom\u001b[39;00m\u001b[38;5;250m \u001b[39m\u001b[34;01mdistutils\u001b[39;00m\u001b[34;01m.\u001b[39;00m\u001b[34;01mversion\u001b[39;00m\u001b[38;5;250m \u001b[39m\u001b[38;5;28;01mimport\u001b[39;00m LooseVersion\n\u001b[32m     26\u001b[39m \u001b[38;5;28;01mtry\u001b[39;00m:\n\u001b[32m     27\u001b[39m     \u001b[38;5;28;01mimport\u001b[39;00m\u001b[38;5;250m \u001b[39m\u001b[34;01mpandas\u001b[39;00m\n",
      "\u001b[31mModuleNotFoundError\u001b[39m: No module named 'distutils'"
     ]
    }
   ],
   "source": [
    "mix.toPandas().head()"
   ]
  },
  {
   "cell_type": "code",
   "execution_count": 48,
   "id": "5aff4c4d",
   "metadata": {},
   "outputs": [],
   "source": [
    "spark.stop()"
   ]
  }
 ],
 "metadata": {
  "kernelspec": {
   "display_name": "py_venv",
   "language": "python",
   "name": "python3"
  },
  "language_info": {
   "codemirror_mode": {
    "name": "ipython",
    "version": 3
   },
   "file_extension": ".py",
   "mimetype": "text/x-python",
   "name": "python",
   "nbconvert_exporter": "python",
   "pygments_lexer": "ipython3",
   "version": "3.13.3"
  }
 },
 "nbformat": 4,
 "nbformat_minor": 5
}
