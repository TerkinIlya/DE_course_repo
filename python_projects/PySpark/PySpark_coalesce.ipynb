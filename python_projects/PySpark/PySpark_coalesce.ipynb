{
 "cells": [
  {
   "cell_type": "code",
   "execution_count": 1,
   "id": "17cfe9c6",
   "metadata": {},
   "outputs": [
    {
     "name": "stderr",
     "output_type": "stream",
     "text": [
      "Setting default log level to \"WARN\".\n",
      "To adjust logging level use sc.setLogLevel(newLevel). For SparkR, use setLogLevel(newLevel).\n",
      "25/04/23 16:30:41 WARN NativeCodeLoader: Unable to load native-hadoop library for your platform... using builtin-java classes where applicable\n"
     ]
    }
   ],
   "source": [
    "from pyspark.sql import SparkSession\n",
    "\n",
    "# Создаем SparkSession\n",
    "spark = SparkSession.builder \\\n",
    "    .appName(\"Coalesce Example\") \\\n",
    "    .getOrCreate()"
   ]
  },
  {
   "cell_type": "code",
   "execution_count": 2,
   "id": "73641a97",
   "metadata": {},
   "outputs": [
    {
     "name": "stderr",
     "output_type": "stream",
     "text": [
      "25/04/23 16:30:55 WARN GarbageCollectionMetrics: To enable non-built-in garbage collector(s) List(G1 Concurrent GC), users should configure it(them) to spark.eventLog.gcMetrics.youngGenerationGarbageCollectors or spark.eventLog.gcMetrics.oldGenerationGarbageCollectors\n"
     ]
    }
   ],
   "source": [
    "# Пример данных\n",
    "data = [(i, f\"Name_{i % 5}\") for i in range(100)]\n",
    "df = spark.createDataFrame(data, [\"id\", \"name\"])\n"
   ]
  },
  {
   "cell_type": "code",
   "execution_count": 3,
   "id": "cbdc01d2",
   "metadata": {},
   "outputs": [
    {
     "name": "stdout",
     "output_type": "stream",
     "text": [
      "Initial number of partitions: 2\n"
     ]
    }
   ],
   "source": [
    "# Проверяем начальное количество партиций\n",
    "initial_partitions = df.rdd.getNumPartitions()\n",
    "print(f\"Initial number of partitions: {initial_partitions}\")"
   ]
  },
  {
   "cell_type": "code",
   "execution_count": 4,
   "id": "6835ff27",
   "metadata": {},
   "outputs": [
    {
     "name": "stderr",
     "output_type": "stream",
     "text": [
      "[Stage 0:=============================>                             (1 + 1) / 2]\r"
     ]
    },
    {
     "name": "stdout",
     "output_type": "stream",
     "text": [
      "Number of partitions after repartition: 10\n"
     ]
    }
   ],
   "source": [
    "# Применяем repartition для увеличения количества партиций до 10 (для демонстрации)\n",
    "df_repartitioned = df.repartition(10)\n",
    "repartitioned_partitions = df_repartitioned.rdd.getNumPartitions()\n",
    "print(f\"Number of partitions after repartition: {repartitioned_partitions}\")"
   ]
  },
  {
   "cell_type": "code",
   "execution_count": 5,
   "id": "133d02bd",
   "metadata": {},
   "outputs": [
    {
     "name": "stdout",
     "output_type": "stream",
     "text": [
      "Number of partitions after coalesce: 3\n"
     ]
    }
   ],
   "source": [
    "# Применяем coalesce для уменьшения количества партиций до 3\n",
    "df_coalesced = df_repartitioned.coalesce(3)\n",
    "coalesced_partitions = df_coalesced.rdd.getNumPartitions()\n",
    "print(f\"Number of partitions after coalesce: {coalesced_partitions}\")"
   ]
  },
  {
   "cell_type": "code",
   "execution_count": 6,
   "id": "fc1bb129",
   "metadata": {},
   "outputs": [],
   "source": [
    "# Останавливаем SparkSession\n",
    "spark.stop()"
   ]
  },
  {
   "cell_type": "code",
   "execution_count": null,
   "id": "3427f4e6",
   "metadata": {},
   "outputs": [],
   "source": []
  }
 ],
 "metadata": {
  "kernelspec": {
   "display_name": "py_venv",
   "language": "python",
   "name": "python3"
  },
  "language_info": {
   "codemirror_mode": {
    "name": "ipython",
    "version": 3
   },
   "file_extension": ".py",
   "mimetype": "text/x-python",
   "name": "python",
   "nbconvert_exporter": "python",
   "pygments_lexer": "ipython3",
   "version": "3.13.2"
  }
 },
 "nbformat": 4,
 "nbformat_minor": 5
}
