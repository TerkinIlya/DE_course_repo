{
 "cells": [
  {
   "cell_type": "code",
   "execution_count": 1,
   "id": "c8910c62",
   "metadata": {},
   "outputs": [
    {
     "name": "stderr",
     "output_type": "stream",
     "text": [
      "Setting default log level to \"WARN\".\n",
      "To adjust logging level use sc.setLogLevel(newLevel). For SparkR, use setLogLevel(newLevel).\n",
      "25/04/16 18:19:14 WARN NativeCodeLoader: Unable to load native-hadoop library for your platform... using builtin-java classes where applicable\n",
      "25/04/16 18:19:35 WARN GarbageCollectionMetrics: To enable non-built-in garbage collector(s) List(G1 Concurrent GC), users should configure it(them) to spark.eventLog.gcMetrics.youngGenerationGarbageCollectors or spark.eventLog.gcMetrics.oldGenerationGarbageCollectors\n",
      "                                                                                \r"
     ]
    }
   ],
   "source": [
    "from pyspark.sql import SparkSession\n",
    "from pyspark.sql import functions as F\n",
    "\n",
    "spark = (\n",
    "        SparkSession.builder\n",
    "        .appName(\"Test_task_3\")\n",
    "        .getOrCreate()\n",
    "        )\n",
    "\n",
    "file_path_actors = (\"/home/ilya/github/\"\n",
    "                   \"DE_course_repo/python_projects/\"\n",
    "                   \"PySpark/data/films_actors/actors.csv\")\n",
    "\n",
    "file_path_movie_actors = (\"/home/ilya/github/\"\n",
    "                          \"DE_course_repo/python_projects/\"\n",
    "                          \"PySpark/data/films_actors/movie_actors.csv\")\n",
    "\n",
    "file_path_movies = (\"/home/ilya/github/\"\n",
    "                          \"DE_course_repo/python_projects/\"\n",
    "                          \"PySpark/data/films_actors/movies.csv\")                 \n",
    "\n",
    "actors_df = spark.read.csv(file_path_actors,\n",
    "                            header=True,\n",
    "                            inferSchema=True)\n",
    "\n",
    "movie_actors_df = spark.read.csv(file_path_movie_actors,\n",
    "                            header=True,\n",
    "                            inferSchema=True)\n",
    "\n",
    "movies_df = spark.read.csv(file_path_movies,\n",
    "                            header=True,\n",
    "                            inferSchema=True)"
   ]
  },
  {
   "cell_type": "code",
   "execution_count": null,
   "id": "328e943e",
   "metadata": {},
   "outputs": [],
   "source": [
    "actors_df.createOrReplaceTempView(\"actors\")\n",
    "movie_actors_df.createOrReplaceTempView(\"movie_actors\")\n",
    "movies_df.createOrReplaceTempView(\"movies\")"
   ]
  },
  {
   "cell_type": "code",
   "execution_count": 4,
   "id": "d0543ec1",
   "metadata": {},
   "outputs": [
    {
     "name": "stderr",
     "output_type": "stream",
     "text": [
      "                                                                                \r"
     ]
    },
    {
     "name": "stdout",
     "output_type": "stream",
     "text": [
      "+--------+--------+--------+--------+----------+---------+--------+--------+------+------------+-------------+\n",
      "|movie_id|actor_id|actor_id|    name|birth_date|  country|movie_id|   title| genre|release_date|       budget|\n",
      "+--------+--------+--------+--------+----------+---------+--------+--------+------+------------+-------------+\n",
      "|       1|      25|      25|Actor_25|2008-12-31|    India|       1| Movie_1|Horror|  2000-12-31|8.660058311E7|\n",
      "|      16|       5|       5| Actor_5|1968-12-31|    India|      16|Movie_16|Comedy|  2015-12-31|6.098669335E7|\n",
      "|       6|      16|      16|Actor_16|1990-12-31|    India|       6| Movie_6|Action|  2005-12-31|1.476121831E7|\n",
      "|      16|      11|      11|Actor_11|1980-12-31|      USA|      16|Movie_16|Comedy|  2015-12-31|6.098669335E7|\n",
      "|      14|      21|      21|Actor_21|2000-12-31|   Canada|      14|Movie_14|Sci-Fi|  2013-12-31|8.049514883E7|\n",
      "|       3|       6|       6| Actor_6|1970-12-31|      USA|       3| Movie_3|Action|  2002-12-31| 1.80157747E7|\n",
      "|      15|       9|       9| Actor_9|1976-12-31|      USA|      15|Movie_15| Drama|  2014-12-31|9.809858674E7|\n",
      "|       3|      13|      13|Actor_13|1984-12-31|       UK|       3| Movie_3|Action|  2002-12-31| 1.80157747E7|\n",
      "|       2|      24|      24|Actor_24|2006-12-31|Australia|       2| Movie_2|Comedy|  2001-12-31|1.274740083E7|\n",
      "|       1|       8|       8| Actor_8|1974-12-31|Australia|       1| Movie_1|Horror|  2000-12-31|8.660058311E7|\n",
      "|       9|      14|      14|Actor_14|1986-12-31|   Canada|       9| Movie_9|Action|  2008-12-31|2.201627853E7|\n",
      "|       9|      24|      24|Actor_24|2006-12-31|Australia|       9| Movie_9|Action|  2008-12-31|2.201627853E7|\n",
      "|       7|       1|       1| Actor_1|1960-12-31|   Canada|       7| Movie_7| Drama|  2006-12-31|4.456703643E7|\n",
      "|       3|      17|      17|Actor_17|1992-12-31|      USA|       3| Movie_3|Action|  2002-12-31| 1.80157747E7|\n",
      "|      18|      24|      24|Actor_24|2006-12-31|Australia|      18|Movie_18|Horror|  2017-12-31|8.796317044E7|\n",
      "|      11|       5|       5| Actor_5|1968-12-31|    India|      11|Movie_11|Comedy|  2010-12-31|8.380567138E7|\n",
      "|       7|      25|      25|Actor_25|2008-12-31|    India|       7| Movie_7| Drama|  2006-12-31|4.456703643E7|\n",
      "|       9|       2|       2| Actor_2|1962-12-31|       UK|       9| Movie_9|Action|  2008-12-31|2.201627853E7|\n",
      "|       1|      25|      25|Actor_25|2008-12-31|    India|       1| Movie_1|Horror|  2000-12-31|8.660058311E7|\n",
      "|      14|      28|      28|Actor_28|2014-12-31|    India|      14|Movie_14|Sci-Fi|  2013-12-31|8.049514883E7|\n",
      "+--------+--------+--------+--------+----------+---------+--------+--------+------+------------+-------------+\n",
      "only showing top 20 rows\n",
      "\n"
     ]
    }
   ],
   "source": [
    "df = spark.sql(\"\"\"SELECT * FROM movie_actors ma\n",
    "                  LEFT JOIN actors a\n",
    "                  on ma.actor_id = a.actor_id\n",
    "                  LEFT JOIN movies m\n",
    "                  on ma.movie_id = m.movie_id\"\"\")\n",
    "\n",
    "df.show()"
   ]
  },
  {
   "cell_type": "code",
   "execution_count": 7,
   "id": "fd21e7f4",
   "metadata": {},
   "outputs": [
    {
     "name": "stdout",
     "output_type": "stream",
     "text": [
      "+------+-----------+\n",
      "| genre|top_5_genre|\n",
      "+------+-----------+\n",
      "| Drama|          6|\n",
      "|Action|          6|\n",
      "|Comedy|          4|\n",
      "|Horror|          2|\n",
      "|Sci-Fi|          2|\n",
      "+------+-----------+\n",
      "\n"
     ]
    }
   ],
   "source": [
    "spark.sql(\"\"\"SELECT genre, count(movie_id) as top_5_genre\n",
    "             FROM movies\n",
    "             GROUP BY genre\n",
    "             ORDER BY top_5_genre DESC\n",
    "             LIMIT 5\"\"\").show()"
   ]
  },
  {
   "cell_type": "code",
   "execution_count": 10,
   "id": "ebe0af39",
   "metadata": {},
   "outputs": [
    {
     "name": "stdout",
     "output_type": "stream",
     "text": [
      "+--------+----------+\n",
      "|    name|num_movies|\n",
      "+--------+----------+\n",
      "|Actor_17|         5|\n",
      "+--------+----------+\n",
      "\n"
     ]
    }
   ],
   "source": [
    "spark.sql(\"\"\"SELECT a.name, count(ma.movie_id) as num_movies\n",
    "             FROM movie_actors ma\n",
    "                  LEFT JOIN actors a\n",
    "                  on ma.actor_id = a.actor_id\n",
    "                  LEFT JOIN movies m\n",
    "                  on ma.movie_id = m.movie_id\n",
    "             GROUP BY a.name\n",
    "             ORDER BY num_movies DESC\n",
    "             LIMIT 1\"\"\").show()"
   ]
  },
  {
   "cell_type": "code",
   "execution_count": 13,
   "id": "c10232e4",
   "metadata": {},
   "outputs": [
    {
     "name": "stdout",
     "output_type": "stream",
     "text": [
      "+------+--------------------+\n",
      "| genre|          avg_budget|\n",
      "+------+--------------------+\n",
      "| Drama| 6.076021856166667E7|\n",
      "|Horror|      8.7281876775E7|\n",
      "|Comedy|     5.20709662225E7|\n",
      "|Action|2.7492742561666667E7|\n",
      "|Sci-Fi|       7.809715175E7|\n",
      "+------+--------------------+\n",
      "\n"
     ]
    }
   ],
   "source": [
    "spark.sql(\"\"\"SELECT genre, avg(budget) as avg_budget\n",
    "             FROM movies\n",
    "             GROUP BY genre\n",
    "             --ORDER BY avg_budget DESc\"\"\").show()"
   ]
  },
  {
   "cell_type": "code",
   "execution_count": 21,
   "id": "22292f84",
   "metadata": {},
   "outputs": [
    {
     "name": "stdout",
     "output_type": "stream",
     "text": [
      "+--------+---------+----------+\n",
      "|   title|  country|num_actors|\n",
      "+--------+---------+----------+\n",
      "| Movie_7|    India|         2|\n",
      "| Movie_3|      USA|         2|\n",
      "|Movie_10|       UK|         2|\n",
      "|Movie_15|    India|         2|\n",
      "|Movie_18|Australia|         2|\n",
      "| Movie_1|    India|         3|\n",
      "| Movie_2|      USA|         2|\n",
      "| Movie_7|      USA|         2|\n",
      "|Movie_10|      USA|         2|\n",
      "+--------+---------+----------+\n",
      "\n"
     ]
    }
   ],
   "source": [
    "spark.sql(\"\"\"SELECT m.title, a.country, count(ma.actor_id) as num_actors\n",
    "             FROM movie_actors ma\n",
    "                  LEFT JOIN actors a\n",
    "                  on ma.actor_id = a.actor_id\n",
    "                  LEFT JOIN movies m\n",
    "                  on ma.movie_id = m.movie_id\n",
    "                  GROUP BY m.title, a.country\n",
    "                  HAVING num_actors > 1\"\"\").show()"
   ]
  },
  {
   "cell_type": "code",
   "execution_count": 22,
   "id": "2bd0278d",
   "metadata": {},
   "outputs": [],
   "source": [
    "spark.stop()"
   ]
  }
 ],
 "metadata": {
  "kernelspec": {
   "display_name": "py_venv",
   "language": "python",
   "name": "python3"
  },
  "language_info": {
   "codemirror_mode": {
    "name": "ipython",
    "version": 3
   },
   "file_extension": ".py",
   "mimetype": "text/x-python",
   "name": "python",
   "nbconvert_exporter": "python",
   "pygments_lexer": "ipython3",
   "version": "3.13.2"
  }
 },
 "nbformat": 4,
 "nbformat_minor": 5
}
