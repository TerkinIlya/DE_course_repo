{
 "cells": [
  {
   "cell_type": "code",
   "execution_count": 2,
   "id": "cc50c86a",
   "metadata": {},
   "outputs": [
    {
     "name": "stderr",
     "output_type": "stream",
     "text": [
      "Setting default log level to \"WARN\".\n",
      "To adjust logging level use sc.setLogLevel(newLevel). For SparkR, use setLogLevel(newLevel).\n",
      "25/04/21 15:57:55 WARN NativeCodeLoader: Unable to load native-hadoop library for your platform... using builtin-java classes where applicable\n",
      "                                                                                \r"
     ]
    }
   ],
   "source": [
    "from pyspark.sql import SparkSession\n",
    "from pyspark.sql import functions as F\n",
    "\n",
    "spark = (\n",
    "        SparkSession.builder\n",
    "        .appName(\"Final_task\")\n",
    "        .getOrCreate()\n",
    "        )\n",
    "\n",
    "spark.sparkContext.setLogLevel(\"ERROR\")\n",
    "\n",
    "data_path = (\"/home/ilya/github/DE_course_repo/\"\n",
    "             \"python_projects/PySpark/data/web_server_logs.csv\")\n",
    "\n",
    "log_df = spark.read.csv(data_path,\n",
    "                        header=True,\n",
    "                        inferSchema=True)"
   ]
  },
  {
   "cell_type": "code",
   "execution_count": 3,
   "id": "9b443111",
   "metadata": {},
   "outputs": [
    {
     "name": "stderr",
     "output_type": "stream",
     "text": [
      "                                                                                \r"
     ]
    },
    {
     "name": "stdout",
     "output_type": "stream",
     "text": [
      "+--------------+--------------------+------+--------------------+-------------+-------------+\n",
      "|            ip|           timestamp|method|                 url|response_code|response_size|\n",
      "+--------------+--------------------+------+--------------------+-------------+-------------+\n",
      "| 92.111.222.15|2025-03-28 12:40:...|  POST|                blog|          200|         3002|\n",
      "|122.94.103.244|2025-04-09 02:59:...|   PUT|    explore/list/tag|          404|          273|\n",
      "| 106.41.49.227|2025-01-25 15:21:...|DELETE|                 app|          200|         7593|\n",
      "|  17.114.11.73|2025-02-12 00:59:...|DELETE|                list|          404|         5827|\n",
      "|41.161.233.219|2025-02-07 13:50:...|   GET|                blog|          200|         5258|\n",
      "| 83.137.101.86|2025-04-15 07:02:...|  POST|search/categories...|          500|         7511|\n",
      "|46.170.211.136|2025-03-25 05:09:...|   PUT|                tags|          500|         3407|\n",
      "| 212.16.89.164|2025-01-24 06:11:...|DELETE|      posts/category|          301|         9549|\n",
      "| 151.80.24.102|2025-01-29 17:10:...|DELETE|            app/blog|          500|         3369|\n",
      "|135.43.100.254|2025-03-03 22:46:...|DELETE| main/app/wp-content|          301|         5711|\n",
      "+--------------+--------------------+------+--------------------+-------------+-------------+\n",
      "only showing top 10 rows\n",
      "\n",
      "root\n",
      " |-- ip: string (nullable = true)\n",
      " |-- timestamp: timestamp (nullable = true)\n",
      " |-- method: string (nullable = true)\n",
      " |-- url: string (nullable = true)\n",
      " |-- response_code: integer (nullable = true)\n",
      " |-- response_size: integer (nullable = true)\n",
      "\n"
     ]
    }
   ],
   "source": [
    "log_df.show(10)\n",
    "log_df.printSchema()"
   ]
  },
  {
   "cell_type": "markdown",
   "id": "d6a5d3c3",
   "metadata": {},
   "source": [
    "#### Задание 1\n",
    "Сгруппируйте данные по IP и посчитайте количество запросов для каждого IP, выводим 10 самых активных IP."
   ]
  },
  {
   "cell_type": "code",
   "execution_count": 4,
   "id": "089f14ab",
   "metadata": {},
   "outputs": [
    {
     "name": "stderr",
     "output_type": "stream",
     "text": [
      "                                                                                \r"
     ]
    },
    {
     "name": "stdout",
     "output_type": "stream",
     "text": [
      "+---------------+-------------+\n",
      "|             ip|request_count|\n",
      "+---------------+-------------+\n",
      "| 175.32.115.101|            2|\n",
      "|   129.42.51.11|            1|\n",
      "|  200.126.67.24|            1|\n",
      "|   123.38.37.85|            1|\n",
      "|165.254.201.100|            1|\n",
      "|    1.138.24.93|            1|\n",
      "| 44.189.175.133|            1|\n",
      "|102.155.100.203|            1|\n",
      "|  28.10.138.224|            1|\n",
      "|    9.42.115.60|            1|\n",
      "+---------------+-------------+\n",
      "\n"
     ]
    }
   ],
   "source": [
    "top_10_ip = (log_df.groupBy(\"ip\").agg(F.count(\"method\").alias(\"request_count\"))\n",
    "             .orderBy(F.desc(\"request_count\")).limit(10))\n",
    "\n",
    "top_10_ip.show()"
   ]
  },
  {
   "cell_type": "markdown",
   "id": "3cc30167",
   "metadata": {},
   "source": [
    "#### Задание 2\n",
    "Сгруппируйте данные по HTTP-методу и посчитайте количество запросов для каждого метода."
   ]
  },
  {
   "cell_type": "code",
   "execution_count": 5,
   "id": "bf399714",
   "metadata": {},
   "outputs": [
    {
     "name": "stderr",
     "output_type": "stream",
     "text": [
      "[Stage 6:=============================>                             (1 + 1) / 2]\r"
     ]
    },
    {
     "name": "stdout",
     "output_type": "stream",
     "text": [
      "+------+------------+\n",
      "|method|method_count|\n",
      "+------+------------+\n",
      "|  POST|       24937|\n",
      "|DELETE|       24985|\n",
      "|   PUT|       25105|\n",
      "|   GET|       24973|\n",
      "+------+------------+\n",
      "\n"
     ]
    },
    {
     "name": "stderr",
     "output_type": "stream",
     "text": [
      "                                                                                \r"
     ]
    }
   ],
   "source": [
    "method_count = log_df.groupBy(\"method\").agg(F.count(\"ip\").alias(\"method_count\"))\n",
    "\n",
    "method_count.show()"
   ]
  },
  {
   "cell_type": "markdown",
   "id": "5f235202",
   "metadata": {},
   "source": [
    "#### Задание 3\n",
    "Профильтруйте и посчитайте количество запросов с кодом ответа 404."
   ]
  },
  {
   "cell_type": "code",
   "execution_count": 7,
   "id": "dbf790fc",
   "metadata": {},
   "outputs": [
    {
     "name": "stderr",
     "output_type": "stream",
     "text": [
      "[Stage 12:=============================>                            (1 + 1) / 2]\r"
     ]
    },
    {
     "name": "stdout",
     "output_type": "stream",
     "text": [
      "Number of 404 response codes: 25047\n"
     ]
    },
    {
     "name": "stderr",
     "output_type": "stream",
     "text": [
      "                                                                                \r"
     ]
    }
   ],
   "source": [
    "response_404 = log_df.filter(log_df[\"response_code\"] == 404).count()\n",
    "\n",
    "print(f\"Number of 404 response codes: {response_404}\")"
   ]
  },
  {
   "cell_type": "markdown",
   "id": "89d46b5f",
   "metadata": {},
   "source": [
    "#### Задание 4\n",
    "Сгруппируйте данные по дате и просуммируйте размер ответов, сортируйте по дате."
   ]
  },
  {
   "cell_type": "code",
   "execution_count": 8,
   "id": "3c5d9c6f",
   "metadata": {},
   "outputs": [
    {
     "name": "stderr",
     "output_type": "stream",
     "text": [
      "[Stage 15:=============================>                            (1 + 1) / 2]\r"
     ]
    },
    {
     "name": "stdout",
     "output_type": "stream",
     "text": [
      "+----------+-------------------+\n",
      "|      date|total_response_size|\n",
      "+----------+-------------------+\n",
      "|2025-01-01|            4099640|\n",
      "|2025-01-02|            4540705|\n",
      "|2025-01-03|            4444770|\n",
      "|2025-01-04|            4899352|\n",
      "|2025-01-05|            4687473|\n",
      "|2025-01-06|            4290588|\n",
      "|2025-01-07|            4427677|\n",
      "|2025-01-08|            4617443|\n",
      "|2025-01-09|            4658200|\n",
      "|2025-01-10|            4469333|\n",
      "|2025-01-11|            4652802|\n",
      "|2025-01-12|            4438437|\n",
      "|2025-01-13|            4488098|\n",
      "|2025-01-14|            4502569|\n",
      "|2025-01-15|            4522624|\n",
      "|2025-01-16|            4364922|\n",
      "|2025-01-17|            4620184|\n",
      "|2025-01-18|            4637608|\n",
      "|2025-01-19|            4720734|\n",
      "|2025-01-20|            4491932|\n",
      "+----------+-------------------+\n",
      "only showing top 20 rows\n",
      "\n"
     ]
    },
    {
     "name": "stderr",
     "output_type": "stream",
     "text": [
      "                                                                                \r"
     ]
    }
   ],
   "source": [
    "resp_size = (log_df.withColumn(\"date\", F.to_date(\"timestamp\"))\n",
    "             .groupBy(\"date\")\n",
    "             .agg(F.sum(\"response_size\").alias(\"total_response_size\"))\n",
    "             .orderBy(\"date\"))\n",
    "\n",
    "resp_size.show()"
   ]
  },
  {
   "cell_type": "markdown",
   "id": "2a948f25",
   "metadata": {},
   "source": [
    "#### Вывод"
   ]
  },
  {
   "cell_type": "code",
   "execution_count": 12,
   "id": "9e8589c3",
   "metadata": {},
   "outputs": [
    {
     "name": "stdout",
     "output_type": "stream",
     "text": [
      "Top 10 active IP addresses:\n"
     ]
    },
    {
     "name": "stderr",
     "output_type": "stream",
     "text": [
      "                                                                                \r"
     ]
    },
    {
     "name": "stdout",
     "output_type": "stream",
     "text": [
      "+---------------+-------------+\n",
      "|             ip|request_count|\n",
      "+---------------+-------------+\n",
      "| 175.32.115.101|            2|\n",
      "|   129.42.51.11|            1|\n",
      "|  200.126.67.24|            1|\n",
      "|   123.38.37.85|            1|\n",
      "|165.254.201.100|            1|\n",
      "|    1.138.24.93|            1|\n",
      "| 44.189.175.133|            1|\n",
      "|102.155.100.203|            1|\n",
      "|  28.10.138.224|            1|\n",
      "|    9.42.115.60|            1|\n",
      "+---------------+-------------+\n",
      "\n",
      "Request count by HTTP method:\n",
      "+------+------------+\n",
      "|method|method_count|\n",
      "+------+------------+\n",
      "|  POST|       24937|\n",
      "|DELETE|       24985|\n",
      "|   PUT|       25105|\n",
      "|   GET|       24973|\n",
      "+------+------------+\n",
      "\n",
      "Number of 404 response codes: 25047\n",
      "\n",
      "Total response size by day:\n"
     ]
    },
    {
     "name": "stderr",
     "output_type": "stream",
     "text": [
      "[Stage 42:=============================>                            (1 + 1) / 2]\r"
     ]
    },
    {
     "name": "stdout",
     "output_type": "stream",
     "text": [
      "+----------+-------------------+\n",
      "|      date|total_response_size|\n",
      "+----------+-------------------+\n",
      "|2025-01-01|            4099640|\n",
      "|2025-01-02|            4540705|\n",
      "|2025-01-03|            4444770|\n",
      "|2025-01-04|            4899352|\n",
      "|2025-01-05|            4687473|\n",
      "|2025-01-06|            4290588|\n",
      "|2025-01-07|            4427677|\n",
      "|2025-01-08|            4617443|\n",
      "|2025-01-09|            4658200|\n",
      "|2025-01-10|            4469333|\n",
      "|2025-01-11|            4652802|\n",
      "|2025-01-12|            4438437|\n",
      "|2025-01-13|            4488098|\n",
      "|2025-01-14|            4502569|\n",
      "|2025-01-15|            4522624|\n",
      "|2025-01-16|            4364922|\n",
      "|2025-01-17|            4620184|\n",
      "|2025-01-18|            4637608|\n",
      "|2025-01-19|            4720734|\n",
      "|2025-01-20|            4491932|\n",
      "+----------+-------------------+\n",
      "only showing top 20 rows\n",
      "\n"
     ]
    },
    {
     "name": "stderr",
     "output_type": "stream",
     "text": [
      "                                                                                \r"
     ]
    }
   ],
   "source": [
    "print(\"Top 10 active IP addresses:\")\n",
    "top_10_ip.show()\n",
    "\n",
    "print(\"Request count by HTTP method:\")\n",
    "method_count.show()\n",
    "\n",
    "print(f\"Number of 404 response codes: {response_404}\\n\")\n",
    "\n",
    "print(\"Total response size by day:\")\n",
    "resp_size.show()"
   ]
  }
 ],
 "metadata": {
  "kernelspec": {
   "display_name": "py_venv",
   "language": "python",
   "name": "python3"
  },
  "language_info": {
   "codemirror_mode": {
    "name": "ipython",
    "version": 3
   },
   "file_extension": ".py",
   "mimetype": "text/x-python",
   "name": "python",
   "nbconvert_exporter": "python",
   "pygments_lexer": "ipython3",
   "version": "3.13.2"
  }
 },
 "nbformat": 4,
 "nbformat_minor": 5
}
