{
 "cells": [
  {
   "cell_type": "code",
   "execution_count": 2,
   "id": "ec81b553",
   "metadata": {},
   "outputs": [
    {
     "name": "stderr",
     "output_type": "stream",
     "text": [
      "Setting default log level to \"WARN\".\n",
      "To adjust logging level use sc.setLogLevel(newLevel). For SparkR, use setLogLevel(newLevel).\n",
      "25/04/16 16:49:15 WARN NativeCodeLoader: Unable to load native-hadoop library for your platform... using builtin-java classes where applicable\n",
      "25/04/16 16:49:30 WARN GarbageCollectionMetrics: To enable non-built-in garbage collector(s) List(G1 Concurrent GC), users should configure it(them) to spark.eventLog.gcMetrics.youngGenerationGarbageCollectors or spark.eventLog.gcMetrics.oldGenerationGarbageCollectors\n",
      "                                                                                \r"
     ]
    }
   ],
   "source": [
    "from pyspark.sql import SparkSession\n",
    "from pyspark.sql import functions as F\n",
    "\n",
    "spark = (\n",
    "        SparkSession.builder\n",
    "        .appName(\"TTest_task_1\")\n",
    "        .getOrCreate()\n",
    "        )\n",
    "\n",
    "file_path = (\"/home/ilya/github/\"\n",
    "             \"DE_course_repo/python_projects/\"\n",
    "             \"PySpark/data/weather_data.csv\")\n",
    "\n",
    "weather_df = spark.read.csv(file_path,\n",
    "                            header=True,\n",
    "                            inferSchema=True)"
   ]
  },
  {
   "cell_type": "code",
   "execution_count": 2,
   "id": "0f598ac2",
   "metadata": {},
   "outputs": [
    {
     "name": "stderr",
     "output_type": "stream",
     "text": [
      "                                                                                \r"
     ]
    },
    {
     "name": "stdout",
     "output_type": "stream",
     "text": [
      "+----------+----------+------------------+------------------+-------------------+\n",
      "|station_id|      date|       temperature|     precipitation|         wind_speed|\n",
      "+----------+----------+------------------+------------------+-------------------+\n",
      "| station_7|2022-06-28|-6.751842212861652| 23.67004407474563|  5.458999894629757|\n",
      "| station_4|2020-04-07| -9.57484426026233|2.9858244485444665|  6.828505392085966|\n",
      "| station_8|2018-12-22| 19.34342035369938| 33.58211407730149|  8.975576079892296|\n",
      "| station_5|2021-09-09|30.880953114964086|29.110437988411558|  18.26465360842913|\n",
      "| station_7|2023-02-07|23.459048180599673|49.510444679381074|  3.787868357696922|\n",
      "|station_10|2018-05-07| 27.52561802563259|11.957938889112151|0.10053105219606229|\n",
      "| station_3|2019-08-27| 4.287905745111988|26.536867764341793|  1.201928207563403|\n",
      "| station_7|2023-04-13|19.244547722319886|32.547866755903634| 18.095326833602357|\n",
      "| station_8|2020-10-10|1.2541744266864718| 32.22955873711718| 12.950329296867263|\n",
      "| station_5|2018-02-20|  11.5302773181184|28.064677147420134|  5.460812386556135|\n",
      "+----------+----------+------------------+------------------+-------------------+\n",
      "only showing top 10 rows\n",
      "\n",
      "root\n",
      " |-- station_id: string (nullable = true)\n",
      " |-- date: date (nullable = true)\n",
      " |-- temperature: double (nullable = false)\n",
      " |-- precipitation: double (nullable = false)\n",
      " |-- wind_speed: double (nullable = false)\n",
      "\n"
     ]
    }
   ],
   "source": [
    "weather_temp = weather_df.select(F.mean(\"temperature\")).first()[0]\n",
    "weather_df = weather_df.fillna(weather_temp)\n",
    "\n",
    "weather_df.show(10)\n",
    "weather_df.printSchema()"
   ]
  },
  {
   "cell_type": "code",
   "execution_count": 3,
   "id": "8743f289",
   "metadata": {},
   "outputs": [
    {
     "name": "stdout",
     "output_type": "stream",
     "text": [
      "+----------+------------------+\n",
      "|      date|       temperature|\n",
      "+----------+------------------+\n",
      "|2021-08-20|39.982828249354846|\n",
      "|2023-12-02| 39.96797489293784|\n",
      "|2022-03-28|  39.8246894248997|\n",
      "|2019-02-11| 39.76737697836647|\n",
      "|2020-06-10| 39.69147838355929|\n",
      "+----------+------------------+\n",
      "\n"
     ]
    }
   ],
   "source": [
    "hotest_d = weather_df.orderBy(F.desc(\"temperature\")).limit(5)\n",
    "hotest_d.select(\"date\", \"temperature\").show()"
   ]
  },
  {
   "cell_type": "code",
   "execution_count": 6,
   "id": "fdca0812",
   "metadata": {},
   "outputs": [
    {
     "name": "stdout",
     "output_type": "stream",
     "text": [
      "+----------+----------+-------------------+------------------+-------------------+----+-----+\n",
      "|station_id|      date|        temperature|     precipitation|         wind_speed|year|month|\n",
      "+----------+----------+-------------------+------------------+-------------------+----+-----+\n",
      "| station_7|2022-06-28| -6.751842212861652| 23.67004407474563|  5.458999894629757|2022|    6|\n",
      "| station_4|2020-04-07|  -9.57484426026233|2.9858244485444665|  6.828505392085966|2020|    4|\n",
      "| station_8|2018-12-22|  19.34342035369938| 33.58211407730149|  8.975576079892296|2018|   12|\n",
      "| station_5|2021-09-09| 30.880953114964086|29.110437988411558|  18.26465360842913|2021|    9|\n",
      "| station_7|2023-02-07| 23.459048180599673|49.510444679381074|  3.787868357696922|2023|    2|\n",
      "|station_10|2018-05-07|  27.52561802563259|11.957938889112151|0.10053105219606229|2018|    5|\n",
      "| station_3|2019-08-27|  4.287905745111988|26.536867764341793|  1.201928207563403|2019|    8|\n",
      "| station_7|2023-04-13| 19.244547722319886|32.547866755903634| 18.095326833602357|2023|    4|\n",
      "| station_8|2020-10-10| 1.2541744266864718| 32.22955873711718| 12.950329296867263|2020|   10|\n",
      "| station_5|2018-02-20|   11.5302773181184|28.064677147420134|  5.460812386556135|2018|    2|\n",
      "| station_4|2021-12-01|   8.89809079209174| 38.84640051636127|  3.543850020223822|2021|   12|\n",
      "| station_8|2022-11-28| -9.386771291368737|10.249060476340821|  5.885334732742287|2022|   11|\n",
      "| station_8|2022-06-25|   3.22472562013785| 36.28136001372079|  2.295938545025602|2022|    6|\n",
      "| station_3|2022-07-04|  37.82933652894106| 30.98672857165446|  18.83065820568882|2022|    7|\n",
      "| station_6|2021-04-20| -5.085184537103476| 44.80375558972867| 15.684123487305337|2021|    4|\n",
      "| station_5|2023-01-29|-11.971775823230677|42.359721951679084|  9.247823538250815|2023|    1|\n",
      "| station_2|2019-07-21|  5.114837297436118|15.757351956627662| 17.299252102304038|2019|    7|\n",
      "| station_8|2020-07-24| 27.420264151608883|13.811866248757653|  4.989164085864646|2020|    7|\n",
      "| station_6|2023-04-19| 14.928893786798334| 49.08266619262239|  14.34241136944387|2023|    4|\n",
      "| station_2|2021-08-25|  20.85848963429467|26.363259045762828|  17.12264998027487|2021|    8|\n",
      "+----------+----------+-------------------+------------------+-------------------+----+-----+\n",
      "only showing top 20 rows\n",
      "\n"
     ]
    }
   ],
   "source": [
    "weather_df = weather_df.withColumn(\"year\", F.year(\"date\"))\n",
    "weather_df = weather_df.withColumn(\"month\", F.month(\"date\"))\n",
    "weather_df.show()"
   ]
  },
  {
   "cell_type": "code",
   "execution_count": null,
   "id": "f5958655",
   "metadata": {},
   "outputs": [
    {
     "name": "stderr",
     "output_type": "stream",
     "text": [
      "[Stage 11:>                                                         (0 + 1) / 1]\r"
     ]
    },
    {
     "name": "stdout",
     "output_type": "stream",
     "text": [
      "+----------+-------------------+\n",
      "|station_id|total_precipitation|\n",
      "+----------+-------------------+\n",
      "| station_5|  642.9302626767898|\n",
      "+----------+-------------------+\n",
      "\n"
     ]
    },
    {
     "name": "stderr",
     "output_type": "stream",
     "text": [
      "                                                                                \r"
     ]
    }
   ],
   "source": [
    "max_year = weather_df.agg(F.max(\"year\")).first()[0]\n",
    "\n",
    "\n",
    "max_prec = (weather_df.filter(weather_df[\"year\"] == max_year)\n",
    "            .groupBy(\"station_id\")\n",
    "            .agg(F.sum(\"precipitation\").alias(\"total_precipitation\")))\n",
    "max_prec = max_prec.orderBy(F.desc(\"total_precipitation\")).limit(1)\n",
    "max_prec.select(\"station_id\", \"total_precipitation\").show()"
   ]
  },
  {
   "cell_type": "code",
   "execution_count": 14,
   "id": "f18ffc8a",
   "metadata": {},
   "outputs": [
    {
     "name": "stdout",
     "output_type": "stream",
     "text": [
      "+-----+------------------+\n",
      "|month|          avg_temp|\n",
      "+-----+------------------+\n",
      "|    1|11.356518462550754|\n",
      "|    2| 9.067229891101926|\n",
      "|    3| 7.244080205633994|\n",
      "|    4|12.024529009744693|\n",
      "|    5| 9.902883346912718|\n",
      "|    6|13.421092297254138|\n",
      "|    7|6.1857183016954576|\n",
      "|    8|  10.9678002814186|\n",
      "|    9| 9.596744236573942|\n",
      "|   10|  9.09884344821895|\n",
      "|   11| 7.265889994697494|\n",
      "|   12|11.218592100674337|\n",
      "+-----+------------------+\n",
      "\n"
     ]
    }
   ],
   "source": [
    "avg_temp = weather_df.groupBy(\"month\").agg(F.avg(\"temperature\").alias(\"avg_temp\")).orderBy(F.asc(\"month\"))\n",
    "avg_temp.show()"
   ]
  },
  {
   "cell_type": "code",
   "execution_count": 3,
   "id": "a61e2963",
   "metadata": {},
   "outputs": [],
   "source": [
    "spark.stop()"
   ]
  }
 ],
 "metadata": {
  "kernelspec": {
   "display_name": "py_venv",
   "language": "python",
   "name": "python3"
  },
  "language_info": {
   "codemirror_mode": {
    "name": "ipython",
    "version": 3
   },
   "file_extension": ".py",
   "mimetype": "text/x-python",
   "name": "python",
   "nbconvert_exporter": "python",
   "pygments_lexer": "ipython3",
   "version": "3.13.2"
  }
 },
 "nbformat": 4,
 "nbformat_minor": 5
}
