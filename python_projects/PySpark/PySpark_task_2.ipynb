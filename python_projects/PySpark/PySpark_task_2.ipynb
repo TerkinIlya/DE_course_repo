{
 "cells": [
  {
   "cell_type": "code",
   "execution_count": 1,
   "id": "f4993d5f",
   "metadata": {},
   "outputs": [
    {
     "name": "stderr",
     "output_type": "stream",
     "text": [
      "Setting default log level to \"WARN\".\n",
      "To adjust logging level use sc.setLogLevel(newLevel). For SparkR, use setLogLevel(newLevel).\n",
      "25/04/16 16:55:19 WARN NativeCodeLoader: Unable to load native-hadoop library for your platform... using builtin-java classes where applicable\n",
      "25/04/16 16:55:35 WARN GarbageCollectionMetrics: To enable non-built-in garbage collector(s) List(G1 Concurrent GC), users should configure it(them) to spark.eventLog.gcMetrics.youngGenerationGarbageCollectors or spark.eventLog.gcMetrics.oldGenerationGarbageCollectors\n",
      "                                                                                \r"
     ]
    }
   ],
   "source": [
    "from pyspark.sql import SparkSession\n",
    "from pyspark.sql import functions as F\n",
    "\n",
    "spark = (\n",
    "        SparkSession.builder\n",
    "        .appName(\"Test_task_2\")\n",
    "        .getOrCreate()\n",
    "        )\n",
    "\n",
    "file_path_books = (\"/home/ilya/github/\"\n",
    "                   \"DE_course_repo/python_projects/\"\n",
    "                   \"PySpark/data/books.csv\")\n",
    "\n",
    "file_path_authors = (\"/home/ilya/github/\"\n",
    "                     \"DE_course_repo/python_projects/\"\n",
    "                     \"PySpark/data/authors.csv\")            \n",
    "\n",
    "books_df = spark.read.csv(file_path_books,\n",
    "                            header=True,\n",
    "                            inferSchema=True)\n",
    "\n",
    "authors_df = spark.read.csv(file_path_authors,\n",
    "                            header=True,\n",
    "                            inferSchema=True)"
   ]
  },
  {
   "cell_type": "code",
   "execution_count": 2,
   "id": "5a9da4fb",
   "metadata": {},
   "outputs": [
    {
     "name": "stdout",
     "output_type": "stream",
     "text": [
      "+-------+------+---------+-----------+-----+------------+\n",
      "|book_id| title|author_id|      genre|price|publish_date|\n",
      "+-------+------+---------+-----------+-----+------------+\n",
      "|      1|Book_1|        2|    Mystery|73.57|  1980-12-31|\n",
      "|      2|Book_2|        1|Non-Fiction| 41.1|  1982-12-31|\n",
      "|      3|Book_3|       10|    Fiction|10.63|  1984-12-31|\n",
      "|      4|Book_4|        9|Non-Fiction|46.31|  1986-12-31|\n",
      "|      5|Book_5|        7|    Science|31.13|  1988-12-31|\n",
      "+-------+------+---------+-----------+-----+------------+\n",
      "only showing top 5 rows\n",
      "\n",
      "+---------+--------+----------+-------+\n",
      "|author_id|    name|birth_date|country|\n",
      "+---------+--------+----------+-------+\n",
      "|        1|Author_1|1960-12-31|  India|\n",
      "|        2|Author_2|1965-12-31| Canada|\n",
      "|        3|Author_3|1970-12-31|    USA|\n",
      "|        4|Author_4|1975-12-31|     UK|\n",
      "|        5|Author_5|1980-12-31|    USA|\n",
      "+---------+--------+----------+-------+\n",
      "only showing top 5 rows\n",
      "\n",
      "root\n",
      " |-- book_id: integer (nullable = true)\n",
      " |-- title: string (nullable = true)\n",
      " |-- author_id: integer (nullable = true)\n",
      " |-- genre: string (nullable = true)\n",
      " |-- price: double (nullable = true)\n",
      " |-- publish_date: date (nullable = true)\n",
      "\n",
      "root\n",
      " |-- author_id: integer (nullable = true)\n",
      " |-- name: string (nullable = true)\n",
      " |-- birth_date: date (nullable = true)\n",
      " |-- country: string (nullable = true)\n",
      "\n"
     ]
    }
   ],
   "source": [
    "books_df.show(5)\n",
    "authors_df.show(5)\n",
    "\n",
    "books_df.printSchema()\n",
    "authors_df.printSchema()"
   ]
  },
  {
   "cell_type": "code",
   "execution_count": 3,
   "id": "e9b8c8bd",
   "metadata": {},
   "outputs": [
    {
     "name": "stderr",
     "output_type": "stream",
     "text": [
      "                                                                                \r"
     ]
    },
    {
     "name": "stdout",
     "output_type": "stream",
     "text": [
      "+---------+-------+-------+-----------+-----+------------+---------+----------+---------+\n",
      "|author_id|book_id|  title|      genre|price|publish_date|     name|birth_date|  country|\n",
      "+---------+-------+-------+-----------+-----+------------+---------+----------+---------+\n",
      "|        2|      1| Book_1|    Mystery|73.57|  1980-12-31| Author_2|1965-12-31|   Canada|\n",
      "|        1|      2| Book_2|Non-Fiction| 41.1|  1982-12-31| Author_1|1960-12-31|    India|\n",
      "|       10|      3| Book_3|    Fiction|10.63|  1984-12-31|Author_10|2005-12-31|    India|\n",
      "|        9|      4| Book_4|Non-Fiction|46.31|  1986-12-31| Author_9|2000-12-31|Australia|\n",
      "|        7|      5| Book_5|    Science|31.13|  1988-12-31| Author_7|1990-12-31|      USA|\n",
      "|        4|      6| Book_6|Non-Fiction| 83.7|  1990-12-31| Author_4|1975-12-31|       UK|\n",
      "|        6|      7| Book_7|Non-Fiction|40.36|  1992-12-31| Author_6|1985-12-31|      USA|\n",
      "|        2|      8| Book_8|Non-Fiction|84.48|  1994-12-31| Author_2|1965-12-31|   Canada|\n",
      "|        7|      9| Book_9|    Fantasy|10.05|  1996-12-31| Author_7|1990-12-31|      USA|\n",
      "|        2|     10|Book_10|    Science| 37.7|  1998-12-31| Author_2|1965-12-31|   Canada|\n",
      "|       10|     11|Book_11|Non-Fiction| 31.7|  2000-12-31|Author_10|2005-12-31|    India|\n",
      "|        8|     12|Book_12|Non-Fiction|31.02|  2002-12-31| Author_8|1995-12-31|Australia|\n",
      "|        8|     13|Book_13|Non-Fiction|16.14|  2004-12-31| Author_8|1995-12-31|Australia|\n",
      "|        1|     14|Book_14|    Fiction|26.84|  2006-12-31| Author_1|1960-12-31|    India|\n",
      "|        8|     15|Book_15|    Fantasy| 60.0|  2008-12-31| Author_8|1995-12-31|Australia|\n",
      "|        2|     16|Book_16|    Fiction|36.22|  2010-12-31| Author_2|1965-12-31|   Canada|\n",
      "|        6|     17|Book_17|    Fantasy|47.57|  2012-12-31| Author_6|1985-12-31|      USA|\n",
      "|        1|     18|Book_18|Non-Fiction|43.92|  2014-12-31| Author_1|1960-12-31|    India|\n",
      "|        5|     19|Book_19|    Science|88.83|  2016-12-31| Author_5|1980-12-31|      USA|\n",
      "|        7|     20|Book_20|    Mystery|91.48|  2018-12-31| Author_7|1990-12-31|      USA|\n",
      "+---------+-------+-------+-----------+-----+------------+---------+----------+---------+\n",
      "\n"
     ]
    }
   ],
   "source": [
    "merged_df = books_df.join(authors_df, on=\"author_id\", how='left')\n",
    "merged_df.show()"
   ]
  },
  {
   "cell_type": "code",
   "execution_count": 6,
   "id": "8fe272ce",
   "metadata": {},
   "outputs": [
    {
     "name": "stdout",
     "output_type": "stream",
     "text": [
      "root\n",
      " |-- author_id: integer (nullable = true)\n",
      " |-- book_id: integer (nullable = true)\n",
      " |-- title: string (nullable = true)\n",
      " |-- genre: string (nullable = true)\n",
      " |-- price: double (nullable = true)\n",
      " |-- publish_date: date (nullable = true)\n",
      " |-- name: string (nullable = true)\n",
      " |-- birth_date: date (nullable = true)\n",
      " |-- country: string (nullable = true)\n",
      "\n"
     ]
    }
   ],
   "source": [
    "merged_df.printSchema()"
   ]
  },
  {
   "cell_type": "code",
   "execution_count": 11,
   "id": "92432c66",
   "metadata": {},
   "outputs": [
    {
     "name": "stdout",
     "output_type": "stream",
     "text": [
      "+---------+--------+-----------+\n",
      "|author_id|    name|total_price|\n",
      "+---------+--------+-----------+\n",
      "|        2|Author_2|     231.97|\n",
      "|        7|Author_7|     132.66|\n",
      "|        1|Author_1|     111.86|\n",
      "|        8|Author_8|     107.16|\n",
      "|        5|Author_5|      88.83|\n",
      "+---------+--------+-----------+\n",
      "\n"
     ]
    }
   ],
   "source": [
    "(merged_df.groupBy(\"author_id\", \"name\").agg(F.sum(\"price\")\n",
    ".alias(\"total_price\")).orderBy(F.desc(\"total_price\")).limit(5).show())"
   ]
  },
  {
   "cell_type": "code",
   "execution_count": 14,
   "id": "df504d23",
   "metadata": {},
   "outputs": [
    {
     "name": "stdout",
     "output_type": "stream",
     "text": [
      "+-----------+--------------+\n",
      "|      genre|count_of_books|\n",
      "+-----------+--------------+\n",
      "|Non-Fiction|             9|\n",
      "|    Science|             3|\n",
      "|    Fiction|             3|\n",
      "|    Fantasy|             3|\n",
      "|    Mystery|             2|\n",
      "+-----------+--------------+\n",
      "\n"
     ]
    }
   ],
   "source": [
    "merged_df.groupby(\"genre\").agg(F.count(\"title\").alias(\"count_of_books\")).orderBy(F.desc(\"count_of_books\")).show()"
   ]
  },
  {
   "cell_type": "code",
   "execution_count": 15,
   "id": "c0132656",
   "metadata": {},
   "outputs": [
    {
     "name": "stderr",
     "output_type": "stream",
     "text": [
      "[Stage 29:>                                                         (0 + 1) / 1]\r"
     ]
    },
    {
     "name": "stdout",
     "output_type": "stream",
     "text": [
      "+---------+---------+-----------------+\n",
      "|author_id|     name|        avg_price|\n",
      "+---------+---------+-----------------+\n",
      "|        5| Author_5|            88.83|\n",
      "|        4| Author_4|             83.7|\n",
      "|        2| Author_2|          57.9925|\n",
      "|        9| Author_9|            46.31|\n",
      "|        7| Author_7|            44.22|\n",
      "|        6| Author_6|           43.965|\n",
      "|        1| Author_1|37.28666666666667|\n",
      "|        8| Author_8|            35.72|\n",
      "|       10|Author_10|           21.165|\n",
      "+---------+---------+-----------------+\n",
      "\n"
     ]
    },
    {
     "name": "stderr",
     "output_type": "stream",
     "text": [
      "                                                                                \r"
     ]
    }
   ],
   "source": [
    "merged_df.groupBy(\"author_id\", \"name\").agg(F.avg(\"price\").alias(\"avg_price\")).orderBy(F.desc(\"avg_price\")).show()"
   ]
  },
  {
   "cell_type": "code",
   "execution_count": 16,
   "id": "aa2430b5",
   "metadata": {},
   "outputs": [
    {
     "name": "stdout",
     "output_type": "stream",
     "text": [
      "+---------+-------+-------+-----------+-----+------------+---------+----------+---------+----+\n",
      "|author_id|book_id|  title|      genre|price|publish_date|     name|birth_date|  country|year|\n",
      "+---------+-------+-------+-----------+-----+------------+---------+----------+---------+----+\n",
      "|        2|      1| Book_1|    Mystery|73.57|  1980-12-31| Author_2|1965-12-31|   Canada|1980|\n",
      "|        1|      2| Book_2|Non-Fiction| 41.1|  1982-12-31| Author_1|1960-12-31|    India|1982|\n",
      "|       10|      3| Book_3|    Fiction|10.63|  1984-12-31|Author_10|2005-12-31|    India|1984|\n",
      "|        9|      4| Book_4|Non-Fiction|46.31|  1986-12-31| Author_9|2000-12-31|Australia|1986|\n",
      "|        7|      5| Book_5|    Science|31.13|  1988-12-31| Author_7|1990-12-31|      USA|1988|\n",
      "|        4|      6| Book_6|Non-Fiction| 83.7|  1990-12-31| Author_4|1975-12-31|       UK|1990|\n",
      "|        6|      7| Book_7|Non-Fiction|40.36|  1992-12-31| Author_6|1985-12-31|      USA|1992|\n",
      "|        2|      8| Book_8|Non-Fiction|84.48|  1994-12-31| Author_2|1965-12-31|   Canada|1994|\n",
      "|        7|      9| Book_9|    Fantasy|10.05|  1996-12-31| Author_7|1990-12-31|      USA|1996|\n",
      "|        2|     10|Book_10|    Science| 37.7|  1998-12-31| Author_2|1965-12-31|   Canada|1998|\n",
      "|       10|     11|Book_11|Non-Fiction| 31.7|  2000-12-31|Author_10|2005-12-31|    India|2000|\n",
      "|        8|     12|Book_12|Non-Fiction|31.02|  2002-12-31| Author_8|1995-12-31|Australia|2002|\n",
      "|        8|     13|Book_13|Non-Fiction|16.14|  2004-12-31| Author_8|1995-12-31|Australia|2004|\n",
      "|        1|     14|Book_14|    Fiction|26.84|  2006-12-31| Author_1|1960-12-31|    India|2006|\n",
      "|        8|     15|Book_15|    Fantasy| 60.0|  2008-12-31| Author_8|1995-12-31|Australia|2008|\n",
      "|        2|     16|Book_16|    Fiction|36.22|  2010-12-31| Author_2|1965-12-31|   Canada|2010|\n",
      "|        6|     17|Book_17|    Fantasy|47.57|  2012-12-31| Author_6|1985-12-31|      USA|2012|\n",
      "|        1|     18|Book_18|Non-Fiction|43.92|  2014-12-31| Author_1|1960-12-31|    India|2014|\n",
      "|        5|     19|Book_19|    Science|88.83|  2016-12-31| Author_5|1980-12-31|      USA|2016|\n",
      "|        7|     20|Book_20|    Mystery|91.48|  2018-12-31| Author_7|1990-12-31|      USA|2018|\n",
      "+---------+-------+-------+-----------+-----+------------+---------+----------+---------+----+\n",
      "\n"
     ]
    }
   ],
   "source": [
    "merged_df = merged_df.withColumn(\"year\", F.year(\"publish_date\"))\n",
    "merged_df.show()"
   ]
  },
  {
   "cell_type": "code",
   "execution_count": 18,
   "id": "2754f3aa",
   "metadata": {},
   "outputs": [
    {
     "name": "stdout",
     "output_type": "stream",
     "text": [
      "+---------+-------+-------+-----------+-----+------------+---------+----------+---------+----+\n",
      "|author_id|book_id|  title|      genre|price|publish_date|     name|birth_date|  country|year|\n",
      "+---------+-------+-------+-----------+-----+------------+---------+----------+---------+----+\n",
      "|        7|     20|Book_20|    Mystery|91.48|  2018-12-31| Author_7|1990-12-31|      USA|2018|\n",
      "|        5|     19|Book_19|    Science|88.83|  2016-12-31| Author_5|1980-12-31|      USA|2016|\n",
      "|        8|     15|Book_15|    Fantasy| 60.0|  2008-12-31| Author_8|1995-12-31|Australia|2008|\n",
      "|        6|     17|Book_17|    Fantasy|47.57|  2012-12-31| Author_6|1985-12-31|      USA|2012|\n",
      "|        1|     18|Book_18|Non-Fiction|43.92|  2014-12-31| Author_1|1960-12-31|    India|2014|\n",
      "|        2|     16|Book_16|    Fiction|36.22|  2010-12-31| Author_2|1965-12-31|   Canada|2010|\n",
      "|       10|     11|Book_11|Non-Fiction| 31.7|  2000-12-31|Author_10|2005-12-31|    India|2000|\n",
      "|        8|     12|Book_12|Non-Fiction|31.02|  2002-12-31| Author_8|1995-12-31|Australia|2002|\n",
      "|        1|     14|Book_14|    Fiction|26.84|  2006-12-31| Author_1|1960-12-31|    India|2006|\n",
      "|        8|     13|Book_13|Non-Fiction|16.14|  2004-12-31| Author_8|1995-12-31|Australia|2004|\n",
      "+---------+-------+-------+-----------+-----+------------+---------+----------+---------+----+\n",
      "\n"
     ]
    }
   ],
   "source": [
    "merged_df.filter(merged_df[\"year\"] >= 2000).orderBy(F.desc(\"price\")).show()"
   ]
  },
  {
   "cell_type": "code",
   "execution_count": 19,
   "id": "6ffc4b9e",
   "metadata": {},
   "outputs": [],
   "source": [
    "spark.stop()"
   ]
  }
 ],
 "metadata": {
  "kernelspec": {
   "display_name": "py_venv",
   "language": "python",
   "name": "python3"
  },
  "language_info": {
   "codemirror_mode": {
    "name": "ipython",
    "version": 3
   },
   "file_extension": ".py",
   "mimetype": "text/x-python",
   "name": "python",
   "nbconvert_exporter": "python",
   "pygments_lexer": "ipython3",
   "version": "3.13.2"
  }
 },
 "nbformat": 4,
 "nbformat_minor": 5
}
