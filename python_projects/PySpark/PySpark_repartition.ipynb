{
 "cells": [
  {
   "cell_type": "code",
   "execution_count": 1,
   "id": "7986a7bd",
   "metadata": {},
   "outputs": [
    {
     "name": "stderr",
     "output_type": "stream",
     "text": [
      "Setting default log level to \"WARN\".\n",
      "To adjust logging level use sc.setLogLevel(newLevel). For SparkR, use setLogLevel(newLevel).\n",
      "25/04/23 16:12:55 WARN NativeCodeLoader: Unable to load native-hadoop library for your platform... using builtin-java classes where applicable\n"
     ]
    }
   ],
   "source": [
    "from pyspark.sql import SparkSession\n",
    "from pyspark.sql.functions import col\n",
    "\n",
    "# Создаем SparkSession и настраиваем количество партиций для shuffle\n",
    "spark = SparkSession.builder \\\n",
    "    .appName(\"Shuffle Example\") \\\n",
    "    .config(\"spark.sql.shuffle.partitions\", \"50\") \\\n",
    "    .getOrCreate()"
   ]
  },
  {
   "cell_type": "code",
   "execution_count": 2,
   "id": "d8166e54",
   "metadata": {},
   "outputs": [
    {
     "name": "stdout",
     "output_type": "stream",
     "text": [
      "Current shuffle partitions setting: 50\n"
     ]
    },
    {
     "name": "stderr",
     "output_type": "stream",
     "text": [
      "25/04/23 16:13:13 WARN GarbageCollectionMetrics: To enable non-built-in garbage collector(s) List(G1 Concurrent GC), users should configure it(them) to spark.eventLog.gcMetrics.youngGenerationGarbageCollectors or spark.eventLog.gcMetrics.oldGenerationGarbageCollectors\n"
     ]
    }
   ],
   "source": [
    "# Проверяем текущую настройку количества партиций для shuffle\n",
    "print(f\"Current shuffle partitions setting: {spark.conf.get('spark.sql.shuffle.partitions')}\")"
   ]
  },
  {
   "cell_type": "code",
   "execution_count": 3,
   "id": "d90290cd",
   "metadata": {},
   "outputs": [],
   "source": [
    "# Пример данных с большим объемом\n",
    "data1 = [(i, f\"Name_{i % 5}\") for i in range(1000000)]\n",
    "data2 = [(i, f\"Category_{i % 3}\") for i in range(1000000)]\n",
    "\n",
    "df1 = spark.createDataFrame(data1, [\"id\", \"name\"])\n",
    "df2 = spark.createDataFrame(data2, [\"id\", \"category\"])"
   ]
  },
  {
   "cell_type": "code",
   "execution_count": 6,
   "id": "b28a4817",
   "metadata": {},
   "outputs": [
    {
     "name": "stderr",
     "output_type": "stream",
     "text": [
      "25/04/23 16:16:04 WARN TaskSetManager: Stage 4 contains a task of very large size (7701 KiB). The maximum recommended task size is 1000 KiB.\n",
      "Exception ignored in: <_io.BufferedWriter name=5>\n",
      "Traceback (most recent call last):\n",
      "  File \"/home/ilya/github/DE_course_repo/python_projects/py_venv/lib/python3.13/site-packages/pyspark/python/lib/pyspark.zip/pyspark/daemon.py\", line 193, in manager\n",
      "BrokenPipeError: [Errno 32] Broken pipe\n"
     ]
    },
    {
     "name": "stdout",
     "output_type": "stream",
     "text": [
      "+---+------+\n",
      "| id|  name|\n",
      "+---+------+\n",
      "|  0|Name_0|\n",
      "|  1|Name_1|\n",
      "|  2|Name_2|\n",
      "|  3|Name_3|\n",
      "|  4|Name_4|\n",
      "+---+------+\n",
      "only showing top 5 rows\n",
      "\n"
     ]
    }
   ],
   "source": [
    "df1.show(5)"
   ]
  },
  {
   "cell_type": "code",
   "execution_count": 7,
   "id": "3f1a53ed",
   "metadata": {},
   "outputs": [
    {
     "name": "stdout",
     "output_type": "stream",
     "text": [
      "Initial number of partitions in df1: 2\n",
      "Initial number of partitions in df2: 2\n"
     ]
    }
   ],
   "source": [
    "# Проверяем начальное количество партиций\n",
    "initial_partitions_df1 = df1.rdd.getNumPartitions()\n",
    "initial_partitions_df2 = df2.rdd.getNumPartitions()\n",
    "print(f\"Initial number of partitions in df1: {initial_partitions_df1}\")\n",
    "print(f\"Initial number of partitions in df2: {initial_partitions_df2}\")"
   ]
  },
  {
   "cell_type": "code",
   "execution_count": 8,
   "id": "0b895dea",
   "metadata": {},
   "outputs": [],
   "source": [
    "# Принудительно устанавливаем количество партиций перед join\n",
    "df1_repartitioned = df1.repartition(50)\n",
    "df2_repartitioned = df2.repartition(50)"
   ]
  },
  {
   "cell_type": "code",
   "execution_count": 9,
   "id": "2d8c80b9",
   "metadata": {},
   "outputs": [
    {
     "name": "stderr",
     "output_type": "stream",
     "text": [
      "25/04/23 16:16:36 WARN TaskSetManager: Stage 5 contains a task of very large size (7701 KiB). The maximum recommended task size is 1000 KiB.\n",
      "25/04/23 16:16:43 WARN TaskSetManager: Stage 6 contains a task of very large size (9653 KiB). The maximum recommended task size is 1000 KiB.\n",
      "[Stage 6:=============================>                             (1 + 1) / 2]\r"
     ]
    },
    {
     "name": "stdout",
     "output_type": "stream",
     "text": [
      "Number of partitions in df1 after repartition: 50\n",
      "Number of partitions in df2 after repartition: 50\n"
     ]
    }
   ],
   "source": [
    "# Проверяем количество партиций после repartition\n",
    "repartitioned_partitions_df1 = df1_repartitioned.rdd.getNumPartitions()\n",
    "repartitioned_partitions_df2 = df2_repartitioned.rdd.getNumPartitions()\n",
    "print(f\"Number of partitions in df1 after repartition: {repartitioned_partitions_df1}\")\n",
    "print(f\"Number of partitions in df2 after repartition: {repartitioned_partitions_df2}\")"
   ]
  },
  {
   "cell_type": "code",
   "execution_count": 10,
   "id": "cb958119",
   "metadata": {},
   "outputs": [],
   "source": [
    "# Выполняем операцию join, требующую shuffle\n",
    "joined_df = df1_repartitioned.join(df2_repartitioned, \"id\")"
   ]
  },
  {
   "cell_type": "code",
   "execution_count": 11,
   "id": "f02fd595",
   "metadata": {},
   "outputs": [
    {
     "name": "stderr",
     "output_type": "stream",
     "text": [
      "25/04/23 16:17:07 WARN TaskSetManager: Stage 7 contains a task of very large size (7701 KiB). The maximum recommended task size is 1000 KiB.\n",
      "25/04/23 16:17:10 WARN TaskSetManager: Stage 8 contains a task of very large size (9653 KiB). The maximum recommended task size is 1000 KiB.\n",
      "[Stage 12:====================================================>   (47 + 2) / 50]\r"
     ]
    },
    {
     "name": "stdout",
     "output_type": "stream",
     "text": [
      "Number of partitions after join: 2\n"
     ]
    }
   ],
   "source": [
    "# Проверяем количество партиций после join\n",
    "joined_partitions = joined_df.rdd.getNumPartitions()\n",
    "print(f\"Number of partitions after join: {joined_partitions}\")"
   ]
  },
  {
   "cell_type": "code",
   "execution_count": 12,
   "id": "7a9482eb",
   "metadata": {},
   "outputs": [],
   "source": [
    "\n",
    "# Останавливаем SparkSession\n",
    "spark.stop()"
   ]
  }
 ],
 "metadata": {
  "kernelspec": {
   "display_name": "py_venv",
   "language": "python",
   "name": "python3"
  },
  "language_info": {
   "codemirror_mode": {
    "name": "ipython",
    "version": 3
   },
   "file_extension": ".py",
   "mimetype": "text/x-python",
   "name": "python",
   "nbconvert_exporter": "python",
   "pygments_lexer": "ipython3",
   "version": "3.13.2"
  }
 },
 "nbformat": 4,
 "nbformat_minor": 5
}
